{
  "nbformat": 4,
  "nbformat_minor": 5,
  "metadata": {
    "kernelspec": {
      "display_name": "Python 3 (ipykernel)",
      "language": "python",
      "name": "python3"
    },
    "language_info": {
      "codemirror_mode": {
        "name": "ipython",
        "version": 3
      },
      "file_extension": ".py",
      "mimetype": "text/x-python",
      "name": "python",
      "nbconvert_exporter": "python",
      "pygments_lexer": "ipython3",
      "version": "3.8.10"
    },
    "colab": {
      "name": "Transition_matrix.ipynb",
      "provenance": [],
      "collapsed_sections": [],
      "include_colab_link": true
    }
  },
  "cells": [
    {
      "cell_type": "markdown",
      "metadata": {
        "id": "view-in-github",
        "colab_type": "text"
      },
      "source": [
        "<a href=\"https://colab.research.google.com/github/dric2018/DNA_SEQ/blob/main/src/Transition_matrix.ipynb\" target=\"_parent\"><img src=\"https://colab.research.google.com/assets/colab-badge.svg\" alt=\"Open In Colab\"/></a>"
      ]
    },
    {
      "cell_type": "markdown",
      "metadata": {
        "id": "Y6GAwQTPxdHS"
      },
      "source": [
        "### Install"
      ],
      "id": "Y6GAwQTPxdHS"
    },
    {
      "cell_type": "code",
      "metadata": {
        "id": "Y21oWLMgxLEm",
        "colab": {
          "base_uri": "https://localhost:8080/"
        },
        "outputId": "55288f21-7279-42bf-9d77-589b4102f6d7"
      },
      "source": [
        "!pip install biopython --quiet"
      ],
      "id": "Y21oWLMgxLEm",
      "execution_count": 1,
      "outputs": [
        {
          "output_type": "stream",
          "name": "stdout",
          "text": [
            "\u001b[?25l\r\u001b[K     |▏                               | 10 kB 23.8 MB/s eta 0:00:01\r\u001b[K     |▎                               | 20 kB 28.0 MB/s eta 0:00:01\r\u001b[K     |▍                               | 30 kB 22.7 MB/s eta 0:00:01\r\u001b[K     |▋                               | 40 kB 17.9 MB/s eta 0:00:01\r\u001b[K     |▊                               | 51 kB 8.1 MB/s eta 0:00:01\r\u001b[K     |▉                               | 61 kB 9.5 MB/s eta 0:00:01\r\u001b[K     |█                               | 71 kB 8.9 MB/s eta 0:00:01\r\u001b[K     |█▏                              | 81 kB 9.9 MB/s eta 0:00:01\r\u001b[K     |█▎                              | 92 kB 10.1 MB/s eta 0:00:01\r\u001b[K     |█▍                              | 102 kB 7.8 MB/s eta 0:00:01\r\u001b[K     |█▋                              | 112 kB 7.8 MB/s eta 0:00:01\r\u001b[K     |█▊                              | 122 kB 7.8 MB/s eta 0:00:01\r\u001b[K     |█▉                              | 133 kB 7.8 MB/s eta 0:00:01\r\u001b[K     |██                              | 143 kB 7.8 MB/s eta 0:00:01\r\u001b[K     |██▏                             | 153 kB 7.8 MB/s eta 0:00:01\r\u001b[K     |██▎                             | 163 kB 7.8 MB/s eta 0:00:01\r\u001b[K     |██▍                             | 174 kB 7.8 MB/s eta 0:00:01\r\u001b[K     |██▋                             | 184 kB 7.8 MB/s eta 0:00:01\r\u001b[K     |██▊                             | 194 kB 7.8 MB/s eta 0:00:01\r\u001b[K     |██▉                             | 204 kB 7.8 MB/s eta 0:00:01\r\u001b[K     |███                             | 215 kB 7.8 MB/s eta 0:00:01\r\u001b[K     |███▏                            | 225 kB 7.8 MB/s eta 0:00:01\r\u001b[K     |███▎                            | 235 kB 7.8 MB/s eta 0:00:01\r\u001b[K     |███▌                            | 245 kB 7.8 MB/s eta 0:00:01\r\u001b[K     |███▋                            | 256 kB 7.8 MB/s eta 0:00:01\r\u001b[K     |███▊                            | 266 kB 7.8 MB/s eta 0:00:01\r\u001b[K     |███▉                            | 276 kB 7.8 MB/s eta 0:00:01\r\u001b[K     |████                            | 286 kB 7.8 MB/s eta 0:00:01\r\u001b[K     |████▏                           | 296 kB 7.8 MB/s eta 0:00:01\r\u001b[K     |████▎                           | 307 kB 7.8 MB/s eta 0:00:01\r\u001b[K     |████▌                           | 317 kB 7.8 MB/s eta 0:00:01\r\u001b[K     |████▋                           | 327 kB 7.8 MB/s eta 0:00:01\r\u001b[K     |████▊                           | 337 kB 7.8 MB/s eta 0:00:01\r\u001b[K     |████▉                           | 348 kB 7.8 MB/s eta 0:00:01\r\u001b[K     |█████                           | 358 kB 7.8 MB/s eta 0:00:01\r\u001b[K     |█████▏                          | 368 kB 7.8 MB/s eta 0:00:01\r\u001b[K     |█████▎                          | 378 kB 7.8 MB/s eta 0:00:01\r\u001b[K     |█████▌                          | 389 kB 7.8 MB/s eta 0:00:01\r\u001b[K     |█████▋                          | 399 kB 7.8 MB/s eta 0:00:01\r\u001b[K     |█████▊                          | 409 kB 7.8 MB/s eta 0:00:01\r\u001b[K     |██████                          | 419 kB 7.8 MB/s eta 0:00:01\r\u001b[K     |██████                          | 430 kB 7.8 MB/s eta 0:00:01\r\u001b[K     |██████▏                         | 440 kB 7.8 MB/s eta 0:00:01\r\u001b[K     |██████▎                         | 450 kB 7.8 MB/s eta 0:00:01\r\u001b[K     |██████▌                         | 460 kB 7.8 MB/s eta 0:00:01\r\u001b[K     |██████▋                         | 471 kB 7.8 MB/s eta 0:00:01\r\u001b[K     |██████▊                         | 481 kB 7.8 MB/s eta 0:00:01\r\u001b[K     |███████                         | 491 kB 7.8 MB/s eta 0:00:01\r\u001b[K     |███████                         | 501 kB 7.8 MB/s eta 0:00:01\r\u001b[K     |███████▏                        | 512 kB 7.8 MB/s eta 0:00:01\r\u001b[K     |███████▎                        | 522 kB 7.8 MB/s eta 0:00:01\r\u001b[K     |███████▌                        | 532 kB 7.8 MB/s eta 0:00:01\r\u001b[K     |███████▋                        | 542 kB 7.8 MB/s eta 0:00:01\r\u001b[K     |███████▊                        | 552 kB 7.8 MB/s eta 0:00:01\r\u001b[K     |████████                        | 563 kB 7.8 MB/s eta 0:00:01\r\u001b[K     |████████                        | 573 kB 7.8 MB/s eta 0:00:01\r\u001b[K     |████████▏                       | 583 kB 7.8 MB/s eta 0:00:01\r\u001b[K     |████████▍                       | 593 kB 7.8 MB/s eta 0:00:01\r\u001b[K     |████████▌                       | 604 kB 7.8 MB/s eta 0:00:01\r\u001b[K     |████████▋                       | 614 kB 7.8 MB/s eta 0:00:01\r\u001b[K     |████████▊                       | 624 kB 7.8 MB/s eta 0:00:01\r\u001b[K     |█████████                       | 634 kB 7.8 MB/s eta 0:00:01\r\u001b[K     |█████████                       | 645 kB 7.8 MB/s eta 0:00:01\r\u001b[K     |█████████▏                      | 655 kB 7.8 MB/s eta 0:00:01\r\u001b[K     |█████████▍                      | 665 kB 7.8 MB/s eta 0:00:01\r\u001b[K     |█████████▌                      | 675 kB 7.8 MB/s eta 0:00:01\r\u001b[K     |█████████▋                      | 686 kB 7.8 MB/s eta 0:00:01\r\u001b[K     |█████████▊                      | 696 kB 7.8 MB/s eta 0:00:01\r\u001b[K     |██████████                      | 706 kB 7.8 MB/s eta 0:00:01\r\u001b[K     |██████████                      | 716 kB 7.8 MB/s eta 0:00:01\r\u001b[K     |██████████▏                     | 727 kB 7.8 MB/s eta 0:00:01\r\u001b[K     |██████████▍                     | 737 kB 7.8 MB/s eta 0:00:01\r\u001b[K     |██████████▌                     | 747 kB 7.8 MB/s eta 0:00:01\r\u001b[K     |██████████▋                     | 757 kB 7.8 MB/s eta 0:00:01\r\u001b[K     |██████████▉                     | 768 kB 7.8 MB/s eta 0:00:01\r\u001b[K     |███████████                     | 778 kB 7.8 MB/s eta 0:00:01\r\u001b[K     |███████████                     | 788 kB 7.8 MB/s eta 0:00:01\r\u001b[K     |███████████▏                    | 798 kB 7.8 MB/s eta 0:00:01\r\u001b[K     |███████████▍                    | 808 kB 7.8 MB/s eta 0:00:01\r\u001b[K     |███████████▌                    | 819 kB 7.8 MB/s eta 0:00:01\r\u001b[K     |███████████▋                    | 829 kB 7.8 MB/s eta 0:00:01\r\u001b[K     |███████████▉                    | 839 kB 7.8 MB/s eta 0:00:01\r\u001b[K     |████████████                    | 849 kB 7.8 MB/s eta 0:00:01\r\u001b[K     |████████████                    | 860 kB 7.8 MB/s eta 0:00:01\r\u001b[K     |████████████▏                   | 870 kB 7.8 MB/s eta 0:00:01\r\u001b[K     |████████████▍                   | 880 kB 7.8 MB/s eta 0:00:01\r\u001b[K     |████████████▌                   | 890 kB 7.8 MB/s eta 0:00:01\r\u001b[K     |████████████▋                   | 901 kB 7.8 MB/s eta 0:00:01\r\u001b[K     |████████████▉                   | 911 kB 7.8 MB/s eta 0:00:01\r\u001b[K     |█████████████                   | 921 kB 7.8 MB/s eta 0:00:01\r\u001b[K     |█████████████                   | 931 kB 7.8 MB/s eta 0:00:01\r\u001b[K     |█████████████▎                  | 942 kB 7.8 MB/s eta 0:00:01\r\u001b[K     |█████████████▍                  | 952 kB 7.8 MB/s eta 0:00:01\r\u001b[K     |█████████████▌                  | 962 kB 7.8 MB/s eta 0:00:01\r\u001b[K     |█████████████▋                  | 972 kB 7.8 MB/s eta 0:00:01\r\u001b[K     |█████████████▉                  | 983 kB 7.8 MB/s eta 0:00:01\r\u001b[K     |██████████████                  | 993 kB 7.8 MB/s eta 0:00:01\r\u001b[K     |██████████████                  | 1.0 MB 7.8 MB/s eta 0:00:01\r\u001b[K     |██████████████▎                 | 1.0 MB 7.8 MB/s eta 0:00:01\r\u001b[K     |██████████████▍                 | 1.0 MB 7.8 MB/s eta 0:00:01\r\u001b[K     |██████████████▌                 | 1.0 MB 7.8 MB/s eta 0:00:01\r\u001b[K     |██████████████▋                 | 1.0 MB 7.8 MB/s eta 0:00:01\r\u001b[K     |██████████████▉                 | 1.1 MB 7.8 MB/s eta 0:00:01\r\u001b[K     |███████████████                 | 1.1 MB 7.8 MB/s eta 0:00:01\r\u001b[K     |███████████████                 | 1.1 MB 7.8 MB/s eta 0:00:01\r\u001b[K     |███████████████▎                | 1.1 MB 7.8 MB/s eta 0:00:01\r\u001b[K     |███████████████▍                | 1.1 MB 7.8 MB/s eta 0:00:01\r\u001b[K     |███████████████▌                | 1.1 MB 7.8 MB/s eta 0:00:01\r\u001b[K     |███████████████▊                | 1.1 MB 7.8 MB/s eta 0:00:01\r\u001b[K     |███████████████▉                | 1.1 MB 7.8 MB/s eta 0:00:01\r\u001b[K     |████████████████                | 1.1 MB 7.8 MB/s eta 0:00:01\r\u001b[K     |████████████████                | 1.1 MB 7.8 MB/s eta 0:00:01\r\u001b[K     |████████████████▎               | 1.2 MB 7.8 MB/s eta 0:00:01\r\u001b[K     |████████████████▍               | 1.2 MB 7.8 MB/s eta 0:00:01\r\u001b[K     |████████████████▌               | 1.2 MB 7.8 MB/s eta 0:00:01\r\u001b[K     |████████████████▊               | 1.2 MB 7.8 MB/s eta 0:00:01\r\u001b[K     |████████████████▉               | 1.2 MB 7.8 MB/s eta 0:00:01\r\u001b[K     |█████████████████               | 1.2 MB 7.8 MB/s eta 0:00:01\r\u001b[K     |█████████████████               | 1.2 MB 7.8 MB/s eta 0:00:01\r\u001b[K     |█████████████████▎              | 1.2 MB 7.8 MB/s eta 0:00:01\r\u001b[K     |█████████████████▍              | 1.2 MB 7.8 MB/s eta 0:00:01\r\u001b[K     |█████████████████▌              | 1.2 MB 7.8 MB/s eta 0:00:01\r\u001b[K     |█████████████████▊              | 1.3 MB 7.8 MB/s eta 0:00:01\r\u001b[K     |█████████████████▉              | 1.3 MB 7.8 MB/s eta 0:00:01\r\u001b[K     |██████████████████              | 1.3 MB 7.8 MB/s eta 0:00:01\r\u001b[K     |██████████████████▏             | 1.3 MB 7.8 MB/s eta 0:00:01\r\u001b[K     |██████████████████▎             | 1.3 MB 7.8 MB/s eta 0:00:01\r\u001b[K     |██████████████████▍             | 1.3 MB 7.8 MB/s eta 0:00:01\r\u001b[K     |██████████████████▌             | 1.3 MB 7.8 MB/s eta 0:00:01\r\u001b[K     |██████████████████▊             | 1.3 MB 7.8 MB/s eta 0:00:01\r\u001b[K     |██████████████████▉             | 1.3 MB 7.8 MB/s eta 0:00:01\r\u001b[K     |███████████████████             | 1.4 MB 7.8 MB/s eta 0:00:01\r\u001b[K     |███████████████████▏            | 1.4 MB 7.8 MB/s eta 0:00:01\r\u001b[K     |███████████████████▎            | 1.4 MB 7.8 MB/s eta 0:00:01\r\u001b[K     |███████████████████▍            | 1.4 MB 7.8 MB/s eta 0:00:01\r\u001b[K     |███████████████████▌            | 1.4 MB 7.8 MB/s eta 0:00:01\r\u001b[K     |███████████████████▊            | 1.4 MB 7.8 MB/s eta 0:00:01\r\u001b[K     |███████████████████▉            | 1.4 MB 7.8 MB/s eta 0:00:01\r\u001b[K     |████████████████████            | 1.4 MB 7.8 MB/s eta 0:00:01\r\u001b[K     |████████████████████▏           | 1.4 MB 7.8 MB/s eta 0:00:01\r\u001b[K     |████████████████████▎           | 1.4 MB 7.8 MB/s eta 0:00:01\r\u001b[K     |████████████████████▍           | 1.5 MB 7.8 MB/s eta 0:00:01\r\u001b[K     |████████████████████▋           | 1.5 MB 7.8 MB/s eta 0:00:01\r\u001b[K     |████████████████████▊           | 1.5 MB 7.8 MB/s eta 0:00:01\r\u001b[K     |████████████████████▉           | 1.5 MB 7.8 MB/s eta 0:00:01\r\u001b[K     |█████████████████████           | 1.5 MB 7.8 MB/s eta 0:00:01\r\u001b[K     |█████████████████████▏          | 1.5 MB 7.8 MB/s eta 0:00:01\r\u001b[K     |█████████████████████▎          | 1.5 MB 7.8 MB/s eta 0:00:01\r\u001b[K     |█████████████████████▍          | 1.5 MB 7.8 MB/s eta 0:00:01\r\u001b[K     |█████████████████████▋          | 1.5 MB 7.8 MB/s eta 0:00:01\r\u001b[K     |█████████████████████▊          | 1.5 MB 7.8 MB/s eta 0:00:01\r\u001b[K     |█████████████████████▉          | 1.6 MB 7.8 MB/s eta 0:00:01\r\u001b[K     |██████████████████████          | 1.6 MB 7.8 MB/s eta 0:00:01\r\u001b[K     |██████████████████████▏         | 1.6 MB 7.8 MB/s eta 0:00:01\r\u001b[K     |██████████████████████▎         | 1.6 MB 7.8 MB/s eta 0:00:01\r\u001b[K     |██████████████████████▍         | 1.6 MB 7.8 MB/s eta 0:00:01\r\u001b[K     |██████████████████████▋         | 1.6 MB 7.8 MB/s eta 0:00:01\r\u001b[K     |██████████████████████▊         | 1.6 MB 7.8 MB/s eta 0:00:01\r\u001b[K     |██████████████████████▉         | 1.6 MB 7.8 MB/s eta 0:00:01\r\u001b[K     |███████████████████████         | 1.6 MB 7.8 MB/s eta 0:00:01\r\u001b[K     |███████████████████████▏        | 1.6 MB 7.8 MB/s eta 0:00:01\r\u001b[K     |███████████████████████▎        | 1.7 MB 7.8 MB/s eta 0:00:01\r\u001b[K     |███████████████████████▍        | 1.7 MB 7.8 MB/s eta 0:00:01\r\u001b[K     |███████████████████████▋        | 1.7 MB 7.8 MB/s eta 0:00:01\r\u001b[K     |███████████████████████▊        | 1.7 MB 7.8 MB/s eta 0:00:01\r\u001b[K     |███████████████████████▉        | 1.7 MB 7.8 MB/s eta 0:00:01\r\u001b[K     |████████████████████████        | 1.7 MB 7.8 MB/s eta 0:00:01\r\u001b[K     |████████████████████████▏       | 1.7 MB 7.8 MB/s eta 0:00:01\r\u001b[K     |████████████████████████▎       | 1.7 MB 7.8 MB/s eta 0:00:01\r\u001b[K     |████████████████████████▍       | 1.7 MB 7.8 MB/s eta 0:00:01\r\u001b[K     |████████████████████████▋       | 1.8 MB 7.8 MB/s eta 0:00:01\r\u001b[K     |████████████████████████▊       | 1.8 MB 7.8 MB/s eta 0:00:01\r\u001b[K     |████████████████████████▉       | 1.8 MB 7.8 MB/s eta 0:00:01\r\u001b[K     |█████████████████████████       | 1.8 MB 7.8 MB/s eta 0:00:01\r\u001b[K     |█████████████████████████▏      | 1.8 MB 7.8 MB/s eta 0:00:01\r\u001b[K     |█████████████████████████▎      | 1.8 MB 7.8 MB/s eta 0:00:01\r\u001b[K     |█████████████████████████▌      | 1.8 MB 7.8 MB/s eta 0:00:01\r\u001b[K     |█████████████████████████▋      | 1.8 MB 7.8 MB/s eta 0:00:01\r\u001b[K     |█████████████████████████▊      | 1.8 MB 7.8 MB/s eta 0:00:01\r\u001b[K     |█████████████████████████▉      | 1.8 MB 7.8 MB/s eta 0:00:01\r\u001b[K     |██████████████████████████      | 1.9 MB 7.8 MB/s eta 0:00:01\r\u001b[K     |██████████████████████████▏     | 1.9 MB 7.8 MB/s eta 0:00:01\r\u001b[K     |██████████████████████████▎     | 1.9 MB 7.8 MB/s eta 0:00:01\r\u001b[K     |██████████████████████████▌     | 1.9 MB 7.8 MB/s eta 0:00:01\r\u001b[K     |██████████████████████████▋     | 1.9 MB 7.8 MB/s eta 0:00:01\r\u001b[K     |██████████████████████████▊     | 1.9 MB 7.8 MB/s eta 0:00:01\r\u001b[K     |██████████████████████████▉     | 1.9 MB 7.8 MB/s eta 0:00:01\r\u001b[K     |███████████████████████████     | 1.9 MB 7.8 MB/s eta 0:00:01\r\u001b[K     |███████████████████████████▏    | 1.9 MB 7.8 MB/s eta 0:00:01\r\u001b[K     |███████████████████████████▎    | 1.9 MB 7.8 MB/s eta 0:00:01\r\u001b[K     |███████████████████████████▌    | 2.0 MB 7.8 MB/s eta 0:00:01\r\u001b[K     |███████████████████████████▋    | 2.0 MB 7.8 MB/s eta 0:00:01\r\u001b[K     |███████████████████████████▊    | 2.0 MB 7.8 MB/s eta 0:00:01\r\u001b[K     |████████████████████████████    | 2.0 MB 7.8 MB/s eta 0:00:01\r\u001b[K     |████████████████████████████    | 2.0 MB 7.8 MB/s eta 0:00:01\r\u001b[K     |████████████████████████████▏   | 2.0 MB 7.8 MB/s eta 0:00:01\r\u001b[K     |████████████████████████████▎   | 2.0 MB 7.8 MB/s eta 0:00:01\r\u001b[K     |████████████████████████████▌   | 2.0 MB 7.8 MB/s eta 0:00:01\r\u001b[K     |████████████████████████████▋   | 2.0 MB 7.8 MB/s eta 0:00:01\r\u001b[K     |████████████████████████████▊   | 2.0 MB 7.8 MB/s eta 0:00:01\r\u001b[K     |█████████████████████████████   | 2.1 MB 7.8 MB/s eta 0:00:01\r\u001b[K     |█████████████████████████████   | 2.1 MB 7.8 MB/s eta 0:00:01\r\u001b[K     |█████████████████████████████▏  | 2.1 MB 7.8 MB/s eta 0:00:01\r\u001b[K     |█████████████████████████████▎  | 2.1 MB 7.8 MB/s eta 0:00:01\r\u001b[K     |█████████████████████████████▌  | 2.1 MB 7.8 MB/s eta 0:00:01\r\u001b[K     |█████████████████████████████▋  | 2.1 MB 7.8 MB/s eta 0:00:01\r\u001b[K     |█████████████████████████████▊  | 2.1 MB 7.8 MB/s eta 0:00:01\r\u001b[K     |██████████████████████████████  | 2.1 MB 7.8 MB/s eta 0:00:01\r\u001b[K     |██████████████████████████████  | 2.1 MB 7.8 MB/s eta 0:00:01\r\u001b[K     |██████████████████████████████▏ | 2.2 MB 7.8 MB/s eta 0:00:01\r\u001b[K     |██████████████████████████████▍ | 2.2 MB 7.8 MB/s eta 0:00:01\r\u001b[K     |██████████████████████████████▌ | 2.2 MB 7.8 MB/s eta 0:00:01\r\u001b[K     |██████████████████████████████▋ | 2.2 MB 7.8 MB/s eta 0:00:01\r\u001b[K     |██████████████████████████████▊ | 2.2 MB 7.8 MB/s eta 0:00:01\r\u001b[K     |███████████████████████████████ | 2.2 MB 7.8 MB/s eta 0:00:01\r\u001b[K     |███████████████████████████████ | 2.2 MB 7.8 MB/s eta 0:00:01\r\u001b[K     |███████████████████████████████▏| 2.2 MB 7.8 MB/s eta 0:00:01\r\u001b[K     |███████████████████████████████▍| 2.2 MB 7.8 MB/s eta 0:00:01\r\u001b[K     |███████████████████████████████▌| 2.2 MB 7.8 MB/s eta 0:00:01\r\u001b[K     |███████████████████████████████▋| 2.3 MB 7.8 MB/s eta 0:00:01\r\u001b[K     |███████████████████████████████▊| 2.3 MB 7.8 MB/s eta 0:00:01\r\u001b[K     |████████████████████████████████| 2.3 MB 7.8 MB/s eta 0:00:01\r\u001b[K     |████████████████████████████████| 2.3 MB 7.8 MB/s \n",
            "\u001b[?25h"
          ]
        }
      ]
    },
    {
      "cell_type": "code",
      "metadata": {
        "colab": {
          "base_uri": "https://localhost:8080/"
        },
        "id": "-mh-dIW0xPTg",
        "outputId": "f55b02e3-94e2-408a-ed88-cadda5d20801"
      },
      "source": [
        "! pip list | grep \"sklearn\""
      ],
      "id": "-mh-dIW0xPTg",
      "execution_count": 2,
      "outputs": [
        {
          "output_type": "stream",
          "name": "stdout",
          "text": [
            "sklearn                       0.0\n",
            "sklearn-pandas                1.8.0\n"
          ]
        }
      ]
    },
    {
      "cell_type": "code",
      "metadata": {
        "scrolled": true,
        "id": "94c983e2"
      },
      "source": [
        "from sklearn.decomposition import PCA\n",
        "import matplotlib.pyplot as plt\n",
        "import numpy as np\n",
        "from Bio.Seq import Seq\n",
        "import os\n",
        "import pandas as pd\n",
        "from tqdm import tqdm\n",
        "import math\n",
        "import seaborn as sbn"
      ],
      "id": "94c983e2",
      "execution_count": 3,
      "outputs": []
    },
    {
      "cell_type": "code",
      "source": [
        "from sklearn.ensemble import RandomForestClassifier\n",
        "from sklearn.naive_bayes import GaussianNB, MultinomialNB\n",
        "\n",
        "from sklearn.feature_extraction.text import TfidfVectorizer, CountVectorizer\n",
        "from sklearn.model_selection import train_test_split\n",
        "from sklearn.metrics import accuracy_score, confusion_matrix"
      ],
      "metadata": {
        "id": "kwp2PlkJZ2jF"
      },
      "id": "kwp2PlkJZ2jF",
      "execution_count": 4,
      "outputs": []
    },
    {
      "cell_type": "markdown",
      "metadata": {
        "id": "b4974d40-f6ee-4bf7-8835-2d7b5a21c9e4"
      },
      "source": [
        "### Config "
      ],
      "id": "b4974d40-f6ee-4bf7-8835-2d7b5a21c9e4"
    },
    {
      "cell_type": "code",
      "metadata": {
        "id": "zScgkKp3zLyM",
        "colab": {
          "base_uri": "https://localhost:8080/"
        },
        "outputId": "67690dcd-c1b0-46f9-b00b-ab7bc2dd2150"
      },
      "source": [
        "from google.colab import drive\n",
        "drive.mount('/content/drive')"
      ],
      "id": "zScgkKp3zLyM",
      "execution_count": 5,
      "outputs": [
        {
          "output_type": "stream",
          "name": "stdout",
          "text": [
            "Mounted at /content/drive\n"
          ]
        }
      ]
    },
    {
      "cell_type": "code",
      "metadata": {
        "id": "a073787b-5d5e-4105-a2a2-17b3ab8f6712"
      },
      "source": [
        "config = {\n",
        "    \"data_dir\": \"/content/drive/MyDrive/ASP2021_Group8/datasets\",\n",
        "    \"patients\": \"../../data/Sample1/\",\n",
        "    \"exons\": \"/content/drive/MyDrive/ASP2021_Group8/datasets/Homo_sapiens_CFTR_201_sequence.fa\", #source: https://www.ensembl.org/Homo_sapiens/Transcript/Exons?db=core;g=ENSG00000001626;r=7:117287120-117715971;t=ENST00000003084 \n",
        "    \"train_dir\": \"/content/drive/MyDrive/ASP2021_Group8/datasets/train\",\n",
        "    \"intron_exon\": \"/content/drive/MyDrive/ASP2021_Group8/datasets/splice_mutation/\"\n",
        "}"
      ],
      "id": "a073787b-5d5e-4105-a2a2-17b3ab8f6712",
      "execution_count": 6,
      "outputs": []
    },
    {
      "cell_type": "markdown",
      "metadata": {
        "id": "590c5700-3190-4749-9436-4cdd4f08112a"
      },
      "source": [
        "## Helper funcs"
      ],
      "id": "590c5700-3190-4749-9436-4cdd4f08112a"
    },
    {
      "cell_type": "code",
      "metadata": {
        "id": "7070114c-dd43-40ef-b01d-f2e31f4e637a"
      },
      "source": [
        "translation_codons = {\n",
        "    \"start\": \"ATG\",\n",
        "    \"end\": [\"TGA\", \"TAG\", \"TAA\"]\n",
        "}"
      ],
      "id": "7070114c-dd43-40ef-b01d-f2e31f4e637a",
      "execution_count": 7,
      "outputs": []
    },
    {
      "cell_type": "code",
      "metadata": {
        "id": "2xjU6YhrVbNM"
      },
      "source": [
        "amino_acids_table = {\n",
        "    # table from : https://www.nature.com/scitable/topicpage/nucleic-acids-to-amino-acids-dna-specifies-935/\n",
        "    \"A\": [\"GCU\", \"GCC\", \"GCA\", \"GCG\"], # Alanine (Ala)\n",
        "    \"R\": [\"AGA\", \"AGG\", \"CGU\", \"CGC\", \"CGA\", \"CGG\"], # Arginine (Arg)\n",
        "    \"N\": [\"AAU\", \"AAC\"], # Asparagine (Asn)\n",
        "    \"D\": [\"GAU\", \"GAC\"], # Aspartic acid (Asp)\n",
        "    \"C\": [\"UGU\", \"UGC\"], # Cysteine (Cys)\n",
        "    \"E\": [\"GAA\", \"GAG\"], # Glutamic acid (Glu)\n",
        "    \"Q\": [\"CAA\", \"CAG\"], # Glutamine (Gln)\n",
        "    \"G\": [\"GGU\", \"GGC\", \"GGA\", \"GGG\"], # Glycine (Gly)\n",
        "    \"H\": [\"CAU\", \"CAC\"], # Histidine (his)\n",
        "    \"I\": [\"AUU\", \"AUC\", \"AUA\"], # Isoleucine (ile)\n",
        "    \"L\": [\"UUA\", \"UUG\", \"CUU\", \"CUC\", \"CUA\", \"CUG\"], # Leucine (Leu)\n",
        "    \"K\": [\"AAA\", \"AAG\"], # Lysine (Lys)\n",
        "    \"M\": [\"AUG\"], # Methionine (Met) --- start codon\n",
        "    \"F\": [\"UUU\", \"UUC\"], # Phenylalanine (Phe)\n",
        "    \"P\": [\"CCU\", \"CCC\", \"CCA\", \"CCG\"], # Proline (Pro)\n",
        "    \"S\": [\"AGU\", \"AGC\"], # Serine (Ser)\n",
        "    \"T\": [\"ACU\", \"ACC\", \"ACA\", \"ACG\"], # Threonine (Thr)\n",
        "    \"W\": [\"UGA\", \"UGG\"], # Tryptophan (Trp) --- \"UGA\" --- stop codon\n",
        "    \"Y\": [\"UAU\", \"UAC\"], # Tyrosine (Tyr)\n",
        "    \"V\": [\"GUU\", \"GUC\", \"GUA\", \"GUG\"], # Valine (Val)\n",
        "\n",
        "}"
      ],
      "id": "2xjU6YhrVbNM",
      "execution_count": 8,
      "outputs": []
    },
    {
      "cell_type": "code",
      "source": [
        "splice_exon = \"\"\n",
        "splice_intron = \"\"\n",
        "\n",
        "# introns for splice mutation \n",
        "with open(os.path.join(config[\"intron_exon\"], \"introns.fa\"), \"r\") as s_intron:\n",
        "  splice_intron = s_intron.read()\n",
        "\n",
        "# exons fo splice mutation\n",
        "with open(os.path.join(config[\"intron_exon\"], \"exons.fa\"), \"r\") as s_exon:\n",
        "    splice_exon = s_exon.read()\n",
        "\n",
        "# preprocessing pipeline\n",
        "splice_intron = splice_intron.replace(\"\\n\", \"\")\n",
        "splice_exon = splice_exon.replace(\"\\n\", \"\")\n",
        "  \n",
        "splice_intron = splice_intron.split(\",\")\n",
        "splice_exon = splice_exon.split(\",\")"
      ],
      "metadata": {
        "id": "s-kwXkppLbzm"
      },
      "id": "s-kwXkppLbzm",
      "execution_count": 9,
      "outputs": []
    },
    {
      "cell_type": "code",
      "metadata": {
        "id": "4c64a0e1-3c2c-4592-abb4-74a58bd12ae4"
      },
      "source": [
        "def load_samples(config = config):\n",
        "    \"\"\"\n",
        "    \n",
        "    \"\"\"\n",
        "    gene_dna_ref = \"\"\n",
        "    ref_protein = \"\"\n",
        "    exons = \"\"\n",
        "\n",
        "    with open(os.path.join(config[\"data_dir\"], \"gene.fna\"), \"r\") as gene:\n",
        "        gene_dna_ref += gene.read()\n",
        "\n",
        "    with open(os.path.join(config[\"data_dir\"], \"protein.faa\"), \"r\") as protein:\n",
        "        ref_protein = protein.read()\n",
        "\n",
        "    with open(os.path.join(config[\"exons\"]), \"r\") as ex:\n",
        "        exons = ex.read()\n",
        "        \n",
        "    # preprocessing pipeline\n",
        "    # DNA\n",
        "    gene_dna_ref = gene_dna_ref[gene_dna_ref.find(\"\\n\"):]\n",
        "    gene_dna_ref = Seq(gene_dna_ref).replace(\"\\n\", \"\")\n",
        "    \n",
        "    # protein\n",
        "    ref_protein = ref_protein[ref_protein.find(\"\\n\"):]\n",
        "    ref_protein = Seq(ref_protein).replace(\"\\n\", \"\")\n",
        "    \n",
        "    # exons\n",
        "    exons = Seq(exons).replace(\"\\n\", \"\")\n",
        "    \n",
        "    return gene_dna_ref, ref_protein, exons\n",
        "\n",
        "def add_mutations(gene:Seq, n_mutations:int=2):\n",
        "    \"\"\"\n",
        "        TBA ...\n",
        "    \"\"\"\n",
        "    bp = [\"A\", \"C\", \"G\", \"T\"]\n",
        "    variations = {}\n",
        "    \n",
        "    for n_ in range(n_mutations):\n",
        "        # randomly select a position\n",
        "        pos = np.random.randint(low=0, high=len(gene))\n",
        "        \n",
        "        # add mutation at specified position\n",
        "        variation = np.random.choice(a=bp)\n",
        "        gene = gene[:pos] + variation + gene[pos+1:]\n",
        "        \n",
        "        # save variation\n",
        "        variations[pos] = variation\n",
        "    \n",
        "    return gene, variations\n",
        "\n",
        "\n",
        "def generate_data(base_gene:Seq, n_samples:int=10, data_dir:str=\"\", mutation_kind:str=\"substitution\"):\n",
        "        \n",
        "    \"\"\"\n",
        "        TBA ...\n",
        "        :params\n",
        "        \n",
        "    \"\"\"\n",
        "    dataset = [] # genes dataset\n",
        "    \n",
        "    train = pd.DataFrame(data={\n",
        "        \"coding_sequence\": []\n",
        "    })\n",
        "\n",
        "    \n",
        "    while (len(dataset) < n_samples):\n",
        "\n",
        "        if mutation_kind==\"substitution\":\n",
        "            # add mutations -> generate mutated gene\n",
        "            n_mt = np.random.randint(low=1, high=3)\n",
        "            mutant, variations = add_mutations(gene=rnd_gene, n_mutations=2)\n",
        "            # convert mutated gene to Seq \n",
        "            mutant = Seq(mutant)\n",
        "            start_coding_pos = mutant.find(translation_codons[\"start\"])\n",
        "\n",
        "            # translate mutated gene\n",
        "            mutated_protein = mutant[start_coding_pos:].translate(to_stop=True)\n",
        "\n",
        "            # compare to ref_Protein\n",
        "            if(mutated_protein == ref_protein):\n",
        "                #dataset = np.append(dataset, mutant)\n",
        "                dataset.append(str(mutant))\n",
        "\n",
        "        elif mutation_kind == \"delF508\":\n",
        "            CF_patient_dna = add_delF508(ref_protein=ref_protein)\n",
        "            if str(CF_patient_dna) not in dataset:\n",
        "                dataset.append(str(CF_patient_dna))\n",
        "\n",
        "        elif mutation_kind == \"splicing\":\n",
        "            dna_seq, _ = splice(exon=splice_exon, intron=splice_intron)\n",
        "            dna_seq =  \"\".join(dna_seq)\n",
        "\n",
        "            if dna_seq not in dataset:\n",
        "              dataset.append(dna_seq)\n",
        "\n",
        "        elif mutation_kind == \"missense\":\n",
        "          dna_seq = missense(gene=base_gene)\n",
        "\n",
        "          if (str(dna_seq) not in dataset):\n",
        "            dataset.append(str(dna_seq))\n",
        "\n",
        "\n",
        "        elif mutation_kind == \"nonsense\":\n",
        "          dna_seq = nonsense(gene=base_gene)\n",
        "\n",
        "          if (str(dna_seq) not in dataset):\n",
        "            dataset.append(str(dna_seq))\n",
        "\n",
        "\n",
        "        elif mutation_kind == \"in_frame_del1\":\n",
        "          dna_seq = in_frame_deletion_v1(gene=base_gene, n_deletions=3)\n",
        "\n",
        "          if (str(dna_seq) not in dataset):\n",
        "            dataset.append(str(dna_seq))\n",
        "\n",
        "        elif mutation_kind == \"in_frame_del2\":\n",
        "          dna_seq = in_frame_deletion_v2(gene=base_gene, hole_size=5)\n",
        "\n",
        "          if (str(dna_seq) not in dataset):\n",
        "            dataset.append(str(dna_seq))\n",
        "\n",
        "\n",
        "        elif mutation_kind == \"in_frame_insertion\":\n",
        "          dna_seq = in_frame_insertion(gene=base_gene, n_insertions=4)\n",
        "\n",
        "          if (str(dna_seq) not in dataset):\n",
        "            dataset.append(str(dna_seq))\n",
        "\n",
        "\n",
        "        elif mutation_kind == \"frameshift\":\n",
        "          dna_seq = frameshift(gene=base_gene)\n",
        "\n",
        "          if (str(dna_seq) not in dataset):\n",
        "            dataset.append(str(dna_seq))\n",
        "\n",
        "        else:\n",
        "\n",
        "          # combine all mutations\n",
        "          # splicing\n",
        "          #print(\"done !\")\n",
        "          # dna_seq, _ = splice(exon=splice_exon, intron=splice_intron)\n",
        "          # list to string \n",
        "          # dna_seq =  \"\".join(dna_seq)\n",
        "\n",
        "          # framshift\n",
        "          #print(\"done !\")\n",
        "          #dna_seq  = frameshift(gene=Seq(dna_seq))\n",
        "          #print(type(dna_seq))\n",
        "\n",
        "          # missense\n",
        "          #print(\"done !\")\n",
        "          dna_seq = missense(gene=base_gene)\n",
        "\n",
        "          # nonsense\n",
        "          #print(\"done !\")\n",
        "          dna_seq = nonsense(gene=dna_seq)\n",
        "\n",
        "          # in_frame_del\n",
        "          #print(\"done !\")\n",
        "          in_frame_deletion_v1(gene=dna_seq, large=False, n_deletions=2)\n",
        "\n",
        "          # in_frame in\n",
        "          #print(\"done !\")\n",
        "          dna_seq = in_frame_insertion(gene=dna_seq, large=False, n_insertions=3)\n",
        "\n",
        "          if (str(dna_seq) not in dataset):\n",
        "            dataset.append(str(dna_seq))\n",
        "\n",
        "    #  save dataset to warehouse as .csv\n",
        "    train.coding_sequence = dataset\n",
        "\n",
        "    if mutation_kind != \"delF508\":\n",
        "        train.to_csv(path_or_buf=os.path.join(data_dir, f\"train_{mutation_kind}_{n_samples}_samples.csv\"), index=False)\n",
        "    else:\n",
        "        train.to_csv(path_or_buf=os.path.join(data_dir, f\"train_delF508_{n_samples}_samples.csv\"), index=False)\n",
        "\n",
        "    return train\n",
        "\n",
        "\n",
        "###\n",
        "# Mutations - start\n",
        "###\n",
        "def missense(gene:Seq):\n",
        "  \"\"\"\n",
        "      Create a missense mutation on gene.\n",
        "  \"\"\"\n",
        "  mutant = None\n",
        "  while(True):\n",
        "    mutant, _ = add_mutations(gene=gene, n_mutations=1)\n",
        "    mutant = Seq(mutant)\n",
        "    if(contains_anomaly(mutant, ref_protein) == False):\n",
        "      break\n",
        "  return mutant\n",
        "\n",
        "\n",
        "\n",
        "def frameshift(gene:Seq):\n",
        "  \"\"\"\n",
        "      Changing a number of nucleotides not multiple of three\n",
        "  \"\"\" \n",
        "  mutant = None\n",
        "\n",
        "  while(True):\n",
        "\n",
        "    num_mutations = np.random.randint(low=1, high=11)\n",
        "\n",
        "    if(num_mutations % 3 != 0):\n",
        "\n",
        "      mutant, _ = add_mutations(gene=gene, n_mutations=num_mutations)\n",
        "\n",
        "      mutant = Seq(mutant)\n",
        "\n",
        "      if(contains_anomaly(mutant, ref_protein)):\n",
        "        \n",
        "        break\n",
        "  return mutant\n",
        "\n",
        "\n",
        "def nonsense(gene:Seq):\n",
        "  \"\"\"\n",
        "       Early stop ie TGA or TAG or TAA moved backward in gene sequence\n",
        "  \"\"\"\n",
        "  stop_codons = [\"TGA\", \"TAG\", \"TAA\"]\n",
        "\n",
        "  # select a stop codon at random \n",
        "  slct_stop_codon = np.random.choice(a=stop_codons)\n",
        "\n",
        "  #find starting codon position\n",
        "  start_codon_pos = gene.find(\"ATG\") \n",
        "\n",
        "  #find stop codon position\n",
        "  stop_codon_pos = gene[start_codon_pos:].find(slct_stop_codon) + start_codon_pos\n",
        "\n",
        "  #pick new position of stop codon \n",
        "  new_pos = np.random.randint(low=start_codon_pos, high=stop_codon_pos)\n",
        "\n",
        "\n",
        "  gene = gene[:new_pos] + slct_stop_codon + gene[new_pos:stop_codon_pos] + gene[stop_codon_pos+3:] \n",
        "\n",
        "  \n",
        "  return gene\n",
        "\n",
        "def splice(exon:list, intron:list):\n",
        "  \"\"\"\n",
        "      Unable to determine where the irrelevant starts and ends in the RNA sequence\n",
        "  \"\"\"\n",
        "\n",
        "  # exon  highest position \n",
        "  upper_pos = len(exon) * 2 - 1\n",
        "\n",
        "  # position to perform stretching\n",
        "  pos = np.random.randint(low=1, high=upper_pos)\n",
        "  \n",
        "  #find direction in which streching should be done\n",
        "  direction = np.random.choice(['L', 'R'])\n",
        "\n",
        "  # find indexes of exon and intron\n",
        "  idx_exon = math.ceil((pos + 1) / 2) - 1\n",
        "  idx_intron = math.floor((pos + 1) / 2) - 1\n",
        "\n",
        "  # stretch's length\n",
        "  length = np.random.choice([3, 6, 9, 12])\n",
        "\n",
        "  # make mutation regarding position of intron/exon and direction (right/left)\n",
        "  if(direction == 'L' and (pos % 2) == 1 ):\n",
        "    stretch = exon[idx_exon][-length:]\n",
        "    exon[idx_exon] = exon[idx_exon][:-length]\n",
        "    intron[idx_intron] = stretch + intron[idx_intron] \n",
        "  \n",
        "  if(direction == 'L' and (pos % 2) == 0):\n",
        "    stretch = intron[idx_intron][-length:]\n",
        "    intron[idx_intron] = intron[idx_intron][:-length]\n",
        "    exon[idx_exon] = stretch + exon[idx_exon]\n",
        "\n",
        "  if(direction == 'R' and (pos % 2) == 1):\n",
        "    stretch = intron[idx_intron][:length]\n",
        "    exon[idx_exon] += stretch\n",
        "    intron[idx_intron] = intron[idx_intron][length:]\n",
        "\n",
        "  if(direction == 'R' and (pos % 2) == 0):\n",
        "    stretch = exon[idx_exon][:length]\n",
        "    intron[idx_intron] += stretch\n",
        "    exon[idx_exon] = exon[idx_exon][length:]  \n",
        "\n",
        "  return exon, intron\n",
        "\n",
        "def in_frame_insertion(gene:Seq, large:bool=False, n_insertions:int=1)->Seq:\n",
        "    \"\"\"\n",
        "        insertion of a single nucleotide at a random location of the gene sequence\n",
        "    \"\"\"\n",
        "    bp = [\"A\", \"C\", \"G\", \"T\"]\n",
        "    variations = {}\n",
        "    gene_len = len(gene)\n",
        "\n",
        "    if large:\n",
        "        n_insertions = np.random.randint(low=22, high=100)\n",
        "\n",
        "    for n_ in range(n_insertions):\n",
        "        # randomly select a position\n",
        "        pos = np.random.randint(low=0, high=gene_len)\n",
        "        \n",
        "        # insert nucleotide at specified position\n",
        "        new_nucleotide = np.random.choice(a=bp)\n",
        "\n",
        "        gene = gene[:pos] + new_nucleotide + gene[pos:]\n",
        "\n",
        "        gene_len = len(gene)\n",
        "    \n",
        "    return gene\n",
        "\n",
        "def in_frame_deletion_v1(gene:Seq, large:bool=False, n_deletions:int=1)->Seq:\n",
        "    \"\"\"\n",
        "        Deletion of a single nucleotide at a random location of the gene sequence\n",
        "    \"\"\"\n",
        "    bp = [\"A\", \"C\", \"G\", \"T\"]\n",
        "    variations = {}\n",
        "    gene_len = len(gene)\n",
        "\n",
        "    if large:\n",
        "        assert gene_len >=100, f\"Cannot remove large number of nucleotides ( gene sequence is only {gene_len} nucleotides long)\"\n",
        "        n_deletions = np.random.randint(low=22, high=100)\n",
        "\n",
        "    for n_ in range(n_deletions):\n",
        "        # randomly select a position\n",
        "        pos = np.random.randint(low=0, high=gene_len)\n",
        "        \n",
        "        # delete nucleotide at specified position\n",
        "        gene = gene[:pos] + gene[pos+1:]\n",
        "\n",
        "        gene_len = len(gene)\n",
        "\n",
        "    return gene\n",
        "\n",
        "def in_frame_deletion_v2(gene:Seq, large:bool=False, hole_size:int=5)->Seq:\n",
        "    \"\"\"\n",
        "    TBA ... check whether deletion happens at the begining or the end of gene seq (To be done)\n",
        "    \"\"\"\n",
        "    bp = [\"A\", \"C\", \"G\", \"T\"]\n",
        "    variations = {}\n",
        "    gene_len = len(gene)\n",
        "\n",
        "    if large:\n",
        "        assert gene_len >=100, f\"Cannot remove large number of nucleotides ( gene sequence is only {gene_len} nucleotides long)\"\n",
        "        hole_size = np.random.randint(low=22, high=100)\n",
        "\n",
        "    # randomly select a position\n",
        "    pos = np.random.randint(low=hole_size, high=gene_len-hole_size)\n",
        "    \n",
        "    # delete nucleotide at specified position\n",
        "    assert gene_len >hole_size, f\"Cannot remove {hole_size} nucleotides from a gene sequence of length {gene_len}\"\n",
        "    try:\n",
        "        # forward deletion\n",
        "        gene = gene[:pos] + gene[pos+hole_size:]\n",
        "    except:\n",
        "        # backward deletion\n",
        "        gene = gene[:pos] + gene[pos+hole_size:]\n",
        "\n",
        "    return gene\n",
        "\n",
        "\n",
        "def add_delF508(ref_protein:Seq)->Seq:\n",
        "    \"\"\"\n",
        "        Generate gene sequence with delF508 mutation (from protein sequence)\n",
        "    \"\"\"\n",
        "    # delete F/Phenylalanine/Phe at position 508 of reference protein\n",
        "    CF_protein = ref_protein[:507] + ref_protein[508:]\n",
        "    \n",
        "    reconstructed_rna = \"\"\n",
        "\n",
        "    for curr_amino_acid in CF_protein:\n",
        "        # randomly select a condon that codes for the current amino acid\n",
        "        curr_codon = np.random.choice(amino_acids_table[curr_amino_acid])\n",
        "\n",
        "        # append codon to rna seq\n",
        "        reconstructed_rna+=curr_codon \n",
        "\n",
        "        # print(amino_acid, \"<->\", curr_codon)\n",
        "\n",
        "    return Seq(reconstructed_rna).replace(\"U\", \"T\")\n",
        "\n",
        "\n",
        "### end\n",
        "\n",
        "\n",
        "def contains_anomaly(mutant:Seq, ref_protein:Seq):\n",
        "  \"\"\"\n",
        "      Test if mutation works \n",
        "  \"\"\"\n",
        "  start_coding_pos = mutant.find(translation_codons[\"start\"])\n",
        "  #print(start_coding_pos)\n",
        "\n",
        "\n",
        "  # translate mutated gene\n",
        "  mutated_protein = mutant[start_coding_pos:].translate(to_stop=True)\n",
        "  return (mutated_protein == ref_protein)\n",
        "\n",
        "\n",
        "def generate_data_sick(base_gene:Seq, ref_protein:Seq, n_samples:int=10, data_dir:str=\"\"):\n",
        "      \n",
        "  \"\"\"\n",
        "      TBA ...\n",
        "      :params\n",
        "      \n",
        "  \"\"\"\n",
        "  n_mean_mutation = 10\n",
        "\n",
        "  mutations_type = [\"missense\", \"splice\", \"nonsense\", \"delv2\", \"delv1\", \"insert\", \"frameshift\"] \n",
        "  probs = [0.3873, 0.1092, 0.084, 0.028, 0.0204, 0.0204, 0.1623 ]\n",
        "  for i in range(n_mean_mutation):\n",
        "    mutation_selected = np.random.choice(a=mutations_type, p=[])\n",
        "\n",
        "\n",
        "  return train\n",
        "\n",
        "def gene_index(gene_seq):\n",
        "    \"\"\"\n",
        "    This method takes in the text string and returns 3 outputs\n",
        "    1. number of distinct words in the string\n",
        "    2. list of all distinct words\n",
        "    3. words in the input string excluding empty string converted to a list. (A word vector)\n",
        "    4. A dictionary of words in the  words vector with key as the words and values as the index\n",
        "    \"\"\"\n",
        "    #TODO: Complete this code\n",
        "    # Split the input token into a list\n",
        "    gene_seq_split = list(gene_seq)\n",
        "\n",
        "    # Loop through the list and remove empty strings            \n",
        "    gene_seq_split = list(filter(lambda string_: string_ != \"\", gene_seq_split))\n",
        "    \n",
        "    # print(gene_seq_split)\n",
        "    # Get all the distinct nucleotides from the token split (Hint: Use Sets)\n",
        "    distinct_nucleotides = set(gene_seq_split)\n",
        "    \n",
        "    #print(distinct_nucleotides)\n",
        "    \n",
        "    # Get number of distinct words (Hint: Use len function)\n",
        "    num_distinct_nucleotide = len(distinct_nucleotides)\n",
        "    \n",
        "    # Create a dictionary of words as key and index (which will stand as an id) as value\n",
        "    nucleotide_idx = {id: list(distinct_nucleotides)[id] for id in range(num_distinct_nucleotide)}\n",
        "    \n",
        "#     return num_distinct_nucleotide, distinct_nucleotides, gene_seq_split, nucleotide_idx\n",
        "    return gene_seq_split\n",
        "\n",
        "def compute_transition_matrix(gene_seq_split, distinct_nucleotides):\n",
        "    \"\"\"\n",
        "    Generate a transition matrix showing the probabilities of moving \n",
        "    from one word ('state') to another\n",
        "    \"\"\"\n",
        "    #TODO\n",
        "    \n",
        "    # Initializing Transition Matrix with Zeroes. Hint: Use np.zeros\n",
        "    \n",
        "    \n",
        "    num_distinct_nucleotide = 4\n",
        "    \n",
        "    t_matrix_size = (num_distinct_nucleotide, num_distinct_nucleotide)\n",
        "    transition_mat = np.zeros(t_matrix_size)\n",
        "\n",
        "    # Loop through the token_split list from word_index and create the transition matrix\n",
        "\n",
        "    distinct_nucleotides = list(distinct_nucleotides)\n",
        "    for i in range(len(gene_seq_split) - 1):\n",
        "        nucleotide = gene_seq_split[i]\n",
        "        next_nucleotide = gene_seq_split[i+1]\n",
        "        # Get index of current word\n",
        "        curr_nucleotide_index = distinct_nucleotides.index(nucleotide)\n",
        "        # Get index of the next word\n",
        "        next_nucleotide_index = distinct_nucleotides.index(next_nucleotide)\n",
        "        # Update the transition_mat. Note this keeps tracks of counts not transition probabilities\n",
        "        transition_mat[curr_nucleotide_index][next_nucleotide_index] += 1 \n",
        "    \n",
        "    # Obtain the proper Markov Chain transition matrix by converting counts to probabilities\n",
        "    transition_mat = transition_mat \n",
        "    #/ np.sum(transition_mat, axis=1, keepdims=True)\n",
        "    \n",
        "    return transition_mat\n",
        "\n",
        "def compute_threshold(transition_matrix, ds):\n",
        "    \"\"\"\n",
        "    Computing the Mean Squared Error between the transition matrix of our model and a gene\n",
        "    transition_matrix: Transition matrix of our model\n",
        "    t_mat: Transition matrix of a gene\n",
        "    \"\"\"\n",
        "    \n",
        "\n",
        "    mse = 0\n",
        "    for gene in ds['coding_sequence']:\n",
        "        gene_seq_split = gene_index(gene)\n",
        "        t_mat = compute_transition_matrix(gene_seq_split, ['T', 'A', 'C', 'G'])\n",
        "        t_mat /= np.sum(t_mat, axis=1, keepdims=True)\n",
        "        mse += (np.sum((transition_matrix - t_mat) ** 2) / len(ds['coding_sequence']))\n",
        "\n",
        "\n",
        "#     mse /= len(ds['coding_sequence'])\n",
        "    \n",
        "    return mse\n",
        "\n",
        "\n",
        "def detect_anomaly(gene_seq:str):\n",
        "  gene_split = gene_index(gene)\n",
        "  t_mat = compute_transition_matrix(gene_split, ['T', 'A', 'C', 'G'])\n",
        "\n",
        "  t_mat /= np.sum(t_mat, axis=1, keepdims=True)\n",
        "  # print(t_mat)\n",
        "  mse = np.sum((transition_matrix - t_mat) ** 2)\n",
        "  #print(mse> threshold, f\"Threshold={threshold}, mse={mse}\")\n",
        "\n",
        "  return t_mat, bool(mse> threshold)\n"
      ],
      "id": "4c64a0e1-3c2c-4592-abb4-74a58bd12ae4",
      "execution_count": 10,
      "outputs": []
    },
    {
      "cell_type": "markdown",
      "metadata": {
        "id": "6d2dd61d-2cad-41c5-87f2-317891766982"
      },
      "source": [
        "## Load datasets"
      ],
      "id": "6d2dd61d-2cad-41c5-87f2-317891766982"
    },
    {
      "cell_type": "code",
      "metadata": {
        "id": "efe82872-b27b-406e-a6a4-ed5b4310e8eb"
      },
      "source": [
        "gene_dna_ref, ref_protein, exons = load_samples()"
      ],
      "id": "efe82872-b27b-406e-a6a4-ed5b4310e8eb",
      "execution_count": 11,
      "outputs": []
    },
    {
      "cell_type": "code",
      "metadata": {
        "tags": [],
        "id": "91bcf953-81dc-4a00-bfd7-25ca874dbea4",
        "colab": {
          "base_uri": "https://localhost:8080/"
        },
        "outputId": "465b9a77-c04b-4781-fdc3-89bc8bf8e1c2"
      },
      "source": [
        "gene_dna_ref, len(gene_dna_ref)"
      ],
      "id": "91bcf953-81dc-4a00-bfd7-25ca874dbea4",
      "execution_count": 12,
      "outputs": [
        {
          "output_type": "execute_result",
          "data": {
            "text/plain": [
              "(Seq('GTAGTAGGTCTTTGGCATTAGGAGCTTGAGCCCAGACGGCCCTAGCAGGGACCC...AAA'), 188641)"
            ]
          },
          "metadata": {},
          "execution_count": 12
        }
      ]
    },
    {
      "cell_type": "code",
      "metadata": {
        "id": "9529a4f2-8fc6-46a0-9b8b-dac1ccb23cf2",
        "colab": {
          "base_uri": "https://localhost:8080/"
        },
        "outputId": "8810ea27-9f24-48a0-ccbf-2e77396179cb"
      },
      "source": [
        "exons, len(exons)"
      ],
      "id": "9529a4f2-8fc6-46a0-9b8b-dac1ccb23cf2",
      "execution_count": 13,
      "outputs": [
        {
          "output_type": "execute_result",
          "data": {
            "text/plain": [
              "(Seq('GTAGTAGGTCTTTGGCATTAGGAGCTTGAGCCCAGACGGCCCTAGCAGGGACCC...AAA'), 6070)"
            ]
          },
          "metadata": {},
          "execution_count": 13
        }
      ]
    },
    {
      "cell_type": "code",
      "metadata": {
        "id": "7ff8603d-bdd6-43b0-9961-23c5648e7e83",
        "colab": {
          "base_uri": "https://localhost:8080/"
        },
        "outputId": "7ac2f088-8b05-4e63-d9bb-175c475cb613"
      },
      "source": [
        "ref_protein, len(ref_protein)"
      ],
      "id": "7ff8603d-bdd6-43b0-9961-23c5648e7e83",
      "execution_count": 14,
      "outputs": [
        {
          "output_type": "execute_result",
          "data": {
            "text/plain": [
              "(Seq('MQRSPLEKASVVSKLFFSWTRPILRKGYRQRLELSDIYQIPSVDSADNLSEKLE...TRL'), 1480)"
            ]
          },
          "metadata": {},
          "execution_count": 14
        }
      ]
    },
    {
      "cell_type": "markdown",
      "metadata": {
        "id": "67d27d04-81fb-4e8b-b768-a32670bb354d"
      },
      "source": [
        "## Generate training dataset:: data augmentation"
      ],
      "id": "67d27d04-81fb-4e8b-b768-a32670bb354d"
    },
    {
      "cell_type": "code",
      "metadata": {
        "tags": [],
        "id": "723a7577-326c-46f1-b7e4-02a84828add5"
      },
      "source": [
        "%%time\n",
        "\n",
        "ds = generate_data(\n",
        "    base_gene=exons, \n",
        "    ref_protein=ref_protein, \n",
        "    n_samples=1_000, \n",
        "    data_dir=config[\"train_dir\"]\n",
        ")"
      ],
      "id": "723a7577-326c-46f1-b7e4-02a84828add5",
      "execution_count": null,
      "outputs": []
    },
    {
      "cell_type": "code",
      "source": [
        "total = 1_000\n",
        "probas = {\n",
        "    \"missense\": 0.3873,\n",
        "    \"frameshift\":0.1623,\n",
        "    \"nonsense\":0.084,\n",
        "    \"in_frame_del\":0.0204,\n",
        "    \"in_frame_insertion\":0.0204,\n",
        "    \"splicing\":0.1092,\n",
        "    \"delF508\": 0.2164,\n",
        "}\n",
        "\n",
        "p_combined = sum([0.3873, 0.1092, 0.084, 0.028, 0.0204, 0.0204, 0.1623 ])"
      ],
      "metadata": {
        "id": "B4pWoxiFEu-J"
      },
      "id": "B4pWoxiFEu-J",
      "execution_count": 15,
      "outputs": []
    },
    {
      "cell_type": "code",
      "source": [
        "%%time\n",
        "\n",
        "_ = generate_data(\n",
        "    base_gene = exons,\n",
        "    n_samples=int(probas[\"missense\"]*total), \n",
        "    data_dir=config[\"train_dir\"],\n",
        "    mutation_kind=\"missense\"\n",
        ")\n",
        "\n",
        "_ = generate_data(\n",
        "    base_gene = exons,\n",
        "    n_samples=int(probas[\"in_frame_del\"]*total), \n",
        "    data_dir=config[\"train_dir\"],\n",
        "    mutation_kind=\"in_frame_del1\"\n",
        ")\n",
        "\n",
        "_ = generate_data(\n",
        "    base_gene = exons,\n",
        "    n_samples=int(probas[\"nonsense\"]*total), \n",
        "    data_dir=config[\"train_dir\"],\n",
        "    mutation_kind=\"nonsense\"\n",
        ")\n",
        "\n",
        "_ = generate_data(\n",
        "    base_gene = exons,\n",
        "    n_samples=int(probas[\"in_frame_del\"]*total), \n",
        "    data_dir=config[\"train_dir\"],\n",
        "    mutation_kind=\"in_frame_del2\"\n",
        ")\n",
        "\n",
        "_ = generate_data(\n",
        "    base_gene = exons,\n",
        "    n_samples=int(probas[\"in_frame_insertion\"]*total), \n",
        "    data_dir=config[\"train_dir\"],\n",
        "    mutation_kind=\"in_frame_insertion\"\n",
        ")\n",
        "\n",
        "_ = generate_data(\n",
        "    base_gene = exons,\n",
        "    n_samples=int(probas[\"frameshift\"]*total), \n",
        "    data_dir=config[\"train_dir\"],\n",
        "    mutation_kind=\"frameshift\"\n",
        ")"
      ],
      "metadata": {
        "colab": {
          "base_uri": "https://localhost:8080/"
        },
        "id": "cobtbdMzF-C1",
        "outputId": "ff85f01e-ef62-4b29-cb34-d87254f5127b"
      },
      "id": "cobtbdMzF-C1",
      "execution_count": null,
      "outputs": [
        {
          "output_type": "stream",
          "name": "stderr",
          "text": [
            "/usr/local/lib/python3.7/dist-packages/Bio/Seq.py:2983: BiopythonWarning: Partial codon, len(sequence) not a multiple of three. Explicitly trim the sequence or add trailing N before translation. This may become an error in future.\n",
            "  BiopythonWarning,\n"
          ]
        },
        {
          "output_type": "stream",
          "name": "stdout",
          "text": [
            "CPU times: user 2.59 s, sys: 11 ms, total: 2.6 s\n",
            "Wall time: 2.64 s\n"
          ]
        }
      ]
    },
    {
      "cell_type": "code",
      "source": [
        "n_delF508 = int(total*probas[\"delF508\"])\n",
        "df_delF508 = pd.read_csv(os.path.join(config[\"train_dir\"], \"train_delF508_1000_samples.csv\"))\n",
        "df_delF508_samples = df_delF508.sample(n=n_delF508, random_state=1999, replace=True)"
      ],
      "metadata": {
        "id": "BKsrHFp6d2cR"
      },
      "id": "BKsrHFp6d2cR",
      "execution_count": 16,
      "outputs": []
    },
    {
      "cell_type": "code",
      "source": [
        "# load sick patients datasets\n",
        "df_splicing = pd.read_csv(os.path.join(config[\"train_dir\"], \"train_splicing_10920_samples.csv\")) \n",
        "df_splicing = df_splicing.sample(n=int(total*probas[\"splicing\"]), random_state=1999, replace=True)\n",
        "#df_combined = pd.read_csv(os.path.join(config[\"train_dir\"], f\"train_combined_{total*p_combined}_samples.csv\")) \n",
        "df_in_frame_del1 = pd.read_csv(os.path.join(config[\"train_dir\"], \"train_in_frame_del1_20_samples.csv\"))\n",
        "df_in_frame_del2 = pd.read_csv(os.path.join(config[\"train_dir\"], \"train_in_frame_del2_20_samples.csv\"))\n",
        "df_missense = pd.read_csv(os.path.join(config[\"train_dir\"], \"train_missense_387_samples.csv\"))\n",
        "df_nonsense = pd.read_csv(os.path.join(config[\"train_dir\"], \"train_nonsense_84_samples.csv\"))\n",
        "df_frameshift = pd.read_csv(os.path.join(config[\"train_dir\"], \"train_frameshift_162_samples.csv\"))\n",
        "df_in_frame_insertion = pd.read_csv(os.path.join(config[\"train_dir\"], \"train_in_frame_insertion_20_samples.csv\"))"
      ],
      "metadata": {
        "id": "H-hutqEld2fp"
      },
      "id": "H-hutqEld2fp",
      "execution_count": 20,
      "outputs": []
    },
    {
      "cell_type": "code",
      "source": [
        "df_delF508_samples.shape, df_frameshift.shape, df_missense.shape, df_nonsense.shape, df_in_frame_del1.shape, df_in_frame_del2.shape, df_in_frame_insertion.shape, df_splicing.shape"
      ],
      "metadata": {
        "colab": {
          "base_uri": "https://localhost:8080/"
        },
        "id": "XRlsS41qFdLk",
        "outputId": "814fb5b8-0913-4a98-bbbe-27dd88f6c5d4"
      },
      "id": "XRlsS41qFdLk",
      "execution_count": 21,
      "outputs": [
        {
          "output_type": "execute_result",
          "data": {
            "text/plain": [
              "((216, 1), (162, 1), (387, 1), (84, 1), (20, 1), (20, 1), (20, 1), (109, 1))"
            ]
          },
          "metadata": {},
          "execution_count": 21
        }
      ]
    },
    {
      "cell_type": "code",
      "source": [
        "# create a class\n",
        "mutation_types = {\n",
        "    \"splicing\":0,\n",
        "    \"nonsense\":1,\n",
        "    \"missense\":2,\n",
        "    \"in_frame_del1\":3,\n",
        "    \"in_frame_del2\":4,\n",
        "    \"in_frame_insertion\":5,\n",
        "    \"frameshift\":6,\n",
        "    \"delF508\":7\n",
        "}\n",
        "\n",
        "df_splicing[\"mutation_kind\"] = mutation_types[\"splicing\"]\n",
        "df_in_frame_del1[\"mutation_kind\"] = mutation_types[\"in_frame_del1\"]\n",
        "df_delF508_samples[\"mutation_kind\"] = mutation_types[\"delF508\"]\n",
        "df_in_frame_del2[\"mutation_kind\"] = mutation_types[\"in_frame_del2\"]\n",
        "df_in_frame_insertion[\"mutation_kind\"] = mutation_types[\"in_frame_insertion\"]\n",
        "df_frameshift[\"mutation_kind\"] = mutation_types[\"frameshift\"]\n",
        "df_missense[\"mutation_kind\"] = mutation_types[\"missense\"]\n",
        "df_nonsense[\"mutation_kind\"] = mutation_types[\"nonsense\"]\n"
      ],
      "metadata": {
        "id": "_Jw4NfFDGa-a"
      },
      "id": "_Jw4NfFDGa-a",
      "execution_count": 22,
      "outputs": []
    },
    {
      "cell_type": "code",
      "source": [
        "df_sick = pd.concat(objs=[\n",
        "                          df_splicing, \n",
        "                          df_nonsense, \n",
        "                          df_missense,\n",
        "                          df_in_frame_insertion, \n",
        "                          df_in_frame_del1, \n",
        "                          df_in_frame_del2,\n",
        "                          df_frameshift,\n",
        "                          df_delF508_samples]\n",
        "                    )\n",
        "\n",
        "df_sick.shape"
      ],
      "metadata": {
        "id": "G0Or5xA_d2i-",
        "colab": {
          "base_uri": "https://localhost:8080/"
        },
        "outputId": "60d0411b-3680-4f80-9725-b7402740be94"
      },
      "id": "G0Or5xA_d2i-",
      "execution_count": 23,
      "outputs": [
        {
          "output_type": "execute_result",
          "data": {
            "text/plain": [
              "(1018, 2)"
            ]
          },
          "metadata": {},
          "execution_count": 23
        }
      ]
    },
    {
      "cell_type": "code",
      "source": [
        "df_sick.tail(n=3)"
      ],
      "metadata": {
        "colab": {
          "base_uri": "https://localhost:8080/",
          "height": 143
        },
        "id": "7lF_gh2cGjIm",
        "outputId": "53024884-791b-442a-cf84-b5410bfb91ca"
      },
      "id": "7lF_gh2cGjIm",
      "execution_count": 24,
      "outputs": [
        {
          "output_type": "execute_result",
          "data": {
            "text/html": [
              "<div>\n",
              "<style scoped>\n",
              "    .dataframe tbody tr th:only-of-type {\n",
              "        vertical-align: middle;\n",
              "    }\n",
              "\n",
              "    .dataframe tbody tr th {\n",
              "        vertical-align: top;\n",
              "    }\n",
              "\n",
              "    .dataframe thead th {\n",
              "        text-align: right;\n",
              "    }\n",
              "</style>\n",
              "<table border=\"1\" class=\"dataframe\">\n",
              "  <thead>\n",
              "    <tr style=\"text-align: right;\">\n",
              "      <th></th>\n",
              "      <th>coding_sequence</th>\n",
              "      <th>mutation_kind</th>\n",
              "    </tr>\n",
              "  </thead>\n",
              "  <tbody>\n",
              "    <tr>\n",
              "      <th>661</th>\n",
              "      <td>ATGCAACGGAGCCCGTTAGAAAAAGCTAGTGTGGTGAGTAAACTTT...</td>\n",
              "      <td>7</td>\n",
              "    </tr>\n",
              "    <tr>\n",
              "      <th>60</th>\n",
              "      <td>ATGCAGCGAAGCCCCTTAGAAAAAGCGAGCGTAGTGAGTAAGTTGT...</td>\n",
              "      <td>7</td>\n",
              "    </tr>\n",
              "    <tr>\n",
              "      <th>409</th>\n",
              "      <td>ATGCAGCGCAGTCCTTTAGAGAAAGCCAGTGTAGTAAGTAAACTGT...</td>\n",
              "      <td>7</td>\n",
              "    </tr>\n",
              "  </tbody>\n",
              "</table>\n",
              "</div>"
            ],
            "text/plain": [
              "                                       coding_sequence  mutation_kind\n",
              "661  ATGCAACGGAGCCCGTTAGAAAAAGCTAGTGTGGTGAGTAAACTTT...              7\n",
              "60   ATGCAGCGAAGCCCCTTAGAAAAAGCGAGCGTAGTGAGTAAGTTGT...              7\n",
              "409  ATGCAGCGCAGTCCTTTAGAGAAAGCCAGTGTAGTAAGTAAACTGT...              7"
            ]
          },
          "metadata": {},
          "execution_count": 24
        }
      ]
    },
    {
      "cell_type": "code",
      "source": [
        "#shuffle dataset\n",
        "df_sick = df_sick.sample(frac=1).reset_index(drop=True)"
      ],
      "metadata": {
        "id": "IgD65q57GnO6"
      },
      "id": "IgD65q57GnO6",
      "execution_count": 25,
      "outputs": []
    },
    {
      "cell_type": "code",
      "source": [
        "df_sick.head()"
      ],
      "metadata": {
        "colab": {
          "base_uri": "https://localhost:8080/",
          "height": 206
        },
        "id": "ycEE0IQhHA_L",
        "outputId": "94d525ef-455e-4727-fbe4-fd0cdc8e06d2"
      },
      "id": "ycEE0IQhHA_L",
      "execution_count": 26,
      "outputs": [
        {
          "output_type": "execute_result",
          "data": {
            "text/html": [
              "<div>\n",
              "<style scoped>\n",
              "    .dataframe tbody tr th:only-of-type {\n",
              "        vertical-align: middle;\n",
              "    }\n",
              "\n",
              "    .dataframe tbody tr th {\n",
              "        vertical-align: top;\n",
              "    }\n",
              "\n",
              "    .dataframe thead th {\n",
              "        text-align: right;\n",
              "    }\n",
              "</style>\n",
              "<table border=\"1\" class=\"dataframe\">\n",
              "  <thead>\n",
              "    <tr style=\"text-align: right;\">\n",
              "      <th></th>\n",
              "      <th>coding_sequence</th>\n",
              "      <th>mutation_kind</th>\n",
              "    </tr>\n",
              "  </thead>\n",
              "  <tbody>\n",
              "    <tr>\n",
              "      <th>0</th>\n",
              "      <td>ATGCAACGGAGCCCACTAGAAAAGGCAAGTGTCGTCAGTAAACTCT...</td>\n",
              "      <td>7</td>\n",
              "    </tr>\n",
              "    <tr>\n",
              "      <th>1</th>\n",
              "      <td>ATGCAAAGGAGTCCCTTAGAGAAAGCCAGTGTGGTGAGCAAACTTT...</td>\n",
              "      <td>7</td>\n",
              "    </tr>\n",
              "    <tr>\n",
              "      <th>2</th>\n",
              "      <td>GTAGTAGGTCTTTGGCATTAGGAGCTTGAGCCCAGACGGCCCTAGC...</td>\n",
              "      <td>2</td>\n",
              "    </tr>\n",
              "    <tr>\n",
              "      <th>3</th>\n",
              "      <td>GTAGTAGGTCTTTGGCATTAGGAGCTTGAGCCCAGACGGCCCTAGC...</td>\n",
              "      <td>6</td>\n",
              "    </tr>\n",
              "    <tr>\n",
              "      <th>4</th>\n",
              "      <td>GTAGTAGGTCTTTGGCATTAGGAGCTTGAGCCCAGACGGCCCTAGC...</td>\n",
              "      <td>2</td>\n",
              "    </tr>\n",
              "  </tbody>\n",
              "</table>\n",
              "</div>"
            ],
            "text/plain": [
              "                                     coding_sequence  mutation_kind\n",
              "0  ATGCAACGGAGCCCACTAGAAAAGGCAAGTGTCGTCAGTAAACTCT...              7\n",
              "1  ATGCAAAGGAGTCCCTTAGAGAAAGCCAGTGTGGTGAGCAAACTTT...              7\n",
              "2  GTAGTAGGTCTTTGGCATTAGGAGCTTGAGCCCAGACGGCCCTAGC...              2\n",
              "3  GTAGTAGGTCTTTGGCATTAGGAGCTTGAGCCCAGACGGCCCTAGC...              6\n",
              "4  GTAGTAGGTCTTTGGCATTAGGAGCTTGAGCCCAGACGGCCCTAGC...              2"
            ]
          },
          "metadata": {},
          "execution_count": 26
        }
      ]
    },
    {
      "cell_type": "code",
      "source": [
        "# save dataset \n",
        "df_sick.to_csv(os.path.join(config[\"train_dir\"], \"train_sick_1000.csv\"), index=False)"
      ],
      "metadata": {
        "id": "0NwWWbKjHQCi"
      },
      "id": "0NwWWbKjHQCi",
      "execution_count": null,
      "outputs": []
    },
    {
      "cell_type": "code",
      "source": [
        "! ls {config[\"train_dir\"]}"
      ],
      "metadata": {
        "colab": {
          "base_uri": "https://localhost:8080/"
        },
        "id": "5Xh4Pt4lHueY",
        "outputId": "0c4ecda6-c306-4ce5-a130-d4c850e25222"
      },
      "id": "5Xh4Pt4lHueY",
      "execution_count": null,
      "outputs": [
        {
          "output_type": "stream",
          "name": "stdout",
          "text": [
            "mse_all.npy\t\t\t    train_in_frame_del1_20_samples.csv\n",
            "train_1000_samples.csv\t\t    train_in_frame_del2_20_samples.csv\n",
            "train_100_samples.csv\t\t    train_in_frame_insertion_20_samples.csv\n",
            "train_combined_1000_samples.csv     train_missense_387_samples.csv\n",
            "train_combined_10_samples.csv\t    train_nonsense_84_samples.csv\n",
            "train_combined_3_samples.csv\t    train_sick_1000.csv\n",
            "train_combined_81160.0_samples.csv  train_sick.csv\n",
            "train_delF508_1000_samples.csv\t    train_splicing_10920_samples.csv\n",
            "train_frameshift_162_samples.csv\n"
          ]
        }
      ]
    },
    {
      "cell_type": "markdown",
      "source": [
        "# Generate transition matrix"
      ],
      "metadata": {
        "id": "udwXl5cQJ9AU"
      },
      "id": "udwXl5cQJ9AU"
    },
    {
      "cell_type": "code",
      "source": [
        "dataset = pd.read_csv(os.path.join(config[\"train_dir\"], \"train_1000_samples.csv\"))\n",
        "df_sick = pd.read_csv(os.path.join(config[\"train_dir\"], \"train_sick_1000.csv\"))"
      ],
      "metadata": {
        "id": "yHsUmkLNKCEl"
      },
      "id": "yHsUmkLNKCEl",
      "execution_count": 27,
      "outputs": []
    },
    {
      "cell_type": "code",
      "source": [
        "df_sick.mutation_kind.value_counts()"
      ],
      "metadata": {
        "colab": {
          "base_uri": "https://localhost:8080/"
        },
        "id": "06zQlEqclfAO",
        "outputId": "c291d7e1-cbbf-4fad-f1cd-c0a126577752"
      },
      "id": "06zQlEqclfAO",
      "execution_count": 28,
      "outputs": [
        {
          "output_type": "execute_result",
          "data": {
            "text/plain": [
              "2    387\n",
              "7    216\n",
              "6    162\n",
              "0    109\n",
              "1     84\n",
              "5     20\n",
              "4     20\n",
              "3     20\n",
              "Name: mutation_kind, dtype: int64"
            ]
          },
          "metadata": {},
          "execution_count": 28
        }
      ]
    },
    {
      "cell_type": "code",
      "source": [
        ""
      ],
      "metadata": {
        "id": "UA1eY4UFlfHG"
      },
      "id": "UA1eY4UFlfHG",
      "execution_count": null,
      "outputs": []
    },
    {
      "cell_type": "markdown",
      "source": [
        "## Transition matrix generation"
      ],
      "metadata": {
        "id": "lUq4_pXbwXP4"
      },
      "id": "lUq4_pXbwXP4"
    },
    {
      "cell_type": "code",
      "metadata": {
        "id": "3ff41021",
        "colab": {
          "base_uri": "https://localhost:8080/"
        },
        "outputId": "90d98783-4753-4c68-ca7d-90aa0c741fec"
      },
      "source": [
        "transition_matrix = np.zeros((4,4))\n",
        "for gene_seq_i in dataset['coding_sequence']:\n",
        "    gene_seq_split = gene_index(gene_seq_i)\n",
        "    transition_mat = compute_transition_matrix(gene_seq_split, ['T', 'A', 'C', 'G'])\n",
        "    transition_matrix += transition_mat\n",
        "    \n",
        "transition_matrix /= np.sum(transition_matrix, axis=1, keepdims=True) \n",
        "print(transition_matrix)"
      ],
      "id": "3ff41021",
      "execution_count": null,
      "outputs": [
        {
          "output_type": "stream",
          "name": "stdout",
          "text": [
            "[[0.33017355 0.20096655 0.20085404 0.26800586]\n",
            " [0.24794525 0.3225246  0.17647315 0.253057  ]\n",
            " [0.35739434 0.38150746 0.20547073 0.05562746]\n",
            " [0.20957261 0.35676147 0.19435526 0.23931066]]\n"
          ]
        }
      ]
    },
    {
      "cell_type": "code",
      "source": [
        "pd.DataFrame(transition_matrix)"
      ],
      "metadata": {
        "colab": {
          "base_uri": "https://localhost:8080/",
          "height": 174
        },
        "id": "q3N9s7kaQ_P9",
        "outputId": "19b80d6a-d8dd-4aea-9f2e-3cfb65eb590b"
      },
      "id": "q3N9s7kaQ_P9",
      "execution_count": null,
      "outputs": [
        {
          "output_type": "execute_result",
          "data": {
            "text/html": [
              "<div>\n",
              "<style scoped>\n",
              "    .dataframe tbody tr th:only-of-type {\n",
              "        vertical-align: middle;\n",
              "    }\n",
              "\n",
              "    .dataframe tbody tr th {\n",
              "        vertical-align: top;\n",
              "    }\n",
              "\n",
              "    .dataframe thead th {\n",
              "        text-align: right;\n",
              "    }\n",
              "</style>\n",
              "<table border=\"1\" class=\"dataframe\">\n",
              "  <thead>\n",
              "    <tr style=\"text-align: right;\">\n",
              "      <th></th>\n",
              "      <th>0</th>\n",
              "      <th>1</th>\n",
              "      <th>2</th>\n",
              "      <th>3</th>\n",
              "    </tr>\n",
              "  </thead>\n",
              "  <tbody>\n",
              "    <tr>\n",
              "      <th>0</th>\n",
              "      <td>0.330174</td>\n",
              "      <td>0.200967</td>\n",
              "      <td>0.200854</td>\n",
              "      <td>0.268006</td>\n",
              "    </tr>\n",
              "    <tr>\n",
              "      <th>1</th>\n",
              "      <td>0.247945</td>\n",
              "      <td>0.322525</td>\n",
              "      <td>0.176473</td>\n",
              "      <td>0.253057</td>\n",
              "    </tr>\n",
              "    <tr>\n",
              "      <th>2</th>\n",
              "      <td>0.357394</td>\n",
              "      <td>0.381507</td>\n",
              "      <td>0.205471</td>\n",
              "      <td>0.055627</td>\n",
              "    </tr>\n",
              "    <tr>\n",
              "      <th>3</th>\n",
              "      <td>0.209573</td>\n",
              "      <td>0.356761</td>\n",
              "      <td>0.194355</td>\n",
              "      <td>0.239311</td>\n",
              "    </tr>\n",
              "  </tbody>\n",
              "</table>\n",
              "</div>"
            ],
            "text/plain": [
              "          0         1         2         3\n",
              "0  0.330174  0.200967  0.200854  0.268006\n",
              "1  0.247945  0.322525  0.176473  0.253057\n",
              "2  0.357394  0.381507  0.205471  0.055627\n",
              "3  0.209573  0.356761  0.194355  0.239311"
            ]
          },
          "metadata": {},
          "execution_count": 53
        }
      ]
    },
    {
      "cell_type": "code",
      "source": [
        "#save transition matrix\n",
        "np.save(os.path.join(config[\"train_dir\"], \"transition_matrix.npy\"), transition_matrix)"
      ],
      "metadata": {
        "id": "jQ5LoNttPN_v"
      },
      "id": "jQ5LoNttPN_v",
      "execution_count": null,
      "outputs": []
    },
    {
      "cell_type": "markdown",
      "metadata": {
        "id": "a4c395e0"
      },
      "source": [
        "<h2>Detecting Diseased Person</h2>"
      ],
      "id": "a4c395e0"
    },
    {
      "cell_type": "code",
      "metadata": {
        "id": "1f73ad0b",
        "colab": {
          "base_uri": "https://localhost:8080/"
        },
        "outputId": "1f734182-eb4a-490d-94eb-96123c413508"
      },
      "source": [
        "#compute detection threshold\n",
        "threshold = compute_threshold(transition_matrix, ds=dataset)\n",
        "print(threshold)"
      ],
      "id": "1f73ad0b",
      "execution_count": null,
      "outputs": [
        {
          "output_type": "stream",
          "name": "stdout",
          "text": [
            "8.234402473534644e-06\n"
          ]
        }
      ]
    },
    {
      "cell_type": "markdown",
      "source": [
        "# Test anomaly detection pipeline"
      ],
      "metadata": {
        "id": "IaOTqxn7NsP9"
      },
      "id": "IaOTqxn7NsP9"
    },
    {
      "cell_type": "code",
      "source": [
        "dataset[\"is_normal\"] = 1\n",
        "dataset[\"mutation_kind\"] = -1\n",
        "dataset[\"anomaly_detected\"] = -1\n",
        "\n",
        "df_sick[\"is_normal\"] = 0\n",
        "\n",
        "dataset_cp = pd.concat(objs=[dataset, df_sick])\n",
        "dataset_cp = dataset_cp.sample(frac=1, random_state=1999).reset_index(drop=True)\n",
        "\n",
        "dataset_cp.head()"
      ],
      "metadata": {
        "id": "4YGasKfBq0RD"
      },
      "id": "4YGasKfBq0RD",
      "execution_count": null,
      "outputs": []
    },
    {
      "cell_type": "code",
      "source": [
        "i1 = np.random.randint(low=0, high=len(df_sick['coding_sequence']))\n",
        "gene = df_sick['coding_sequence'][i1]\n",
        "\n",
        "detect_anomaly(gene)"
      ],
      "metadata": {
        "id": "SrS17QpiNxAX",
        "colab": {
          "base_uri": "https://localhost:8080/"
        },
        "outputId": "93978cee-eea2-4429-d426-9ef450b2e993"
      },
      "id": "SrS17QpiNxAX",
      "execution_count": null,
      "outputs": [
        {
          "output_type": "execute_result",
          "data": {
            "text/plain": [
              "(array([[0.35202175, 0.24799767, 0.17173924, 0.22824135],\n",
              "        [0.2924115 , 0.34674455, 0.15544589, 0.20539806],\n",
              "        [0.37258704, 0.37276333, 0.22185985, 0.03278978],\n",
              "        [0.27878227, 0.30577748, 0.18526617, 0.23017408]]), True)"
            ]
          },
          "metadata": {},
          "execution_count": 56
        }
      ]
    },
    {
      "cell_type": "code",
      "source": [
        "(df_sick.iloc[i1][\"mutation_kind\"])"
      ],
      "metadata": {
        "colab": {
          "base_uri": "https://localhost:8080/"
        },
        "id": "yBEf9Xr-URga",
        "outputId": "56106488-75b3-4ab8-a855-108aa5d99fa4"
      },
      "id": "yBEf9Xr-URga",
      "execution_count": null,
      "outputs": [
        {
          "output_type": "execute_result",
          "data": {
            "text/plain": [
              "0"
            ]
          },
          "metadata": {},
          "execution_count": 60
        }
      ]
    },
    {
      "cell_type": "code",
      "source": [
        "i = np.random.randint(low=0, high=df_sick['coding_sequence'].shape[0])\n",
        "gene = df_sick['coding_sequence'][i]\n",
        "\n",
        "detect_anomaly(gene)"
      ],
      "metadata": {
        "colab": {
          "base_uri": "https://localhost:8080/"
        },
        "id": "2h973uR7TLGZ",
        "outputId": "6c1eb375-da5e-4466-dbf5-f9dd1f7afee4"
      },
      "id": "2h973uR7TLGZ",
      "execution_count": null,
      "outputs": [
        {
          "output_type": "execute_result",
          "data": {
            "text/plain": [
              "(array([[0.3300464 , 0.2012761 , 0.20069606, 0.26798144],\n",
              "        [0.24771628, 0.32186996, 0.17678667, 0.25362708],\n",
              "        [0.35781383, 0.38172502, 0.205807  , 0.05465414],\n",
              "        [0.20944402, 0.35719726, 0.19421173, 0.23914699]]), False)"
            ]
          },
          "metadata": {},
          "execution_count": 57
        }
      ]
    },
    {
      "cell_type": "code",
      "source": [
        "df_sick.iloc[i]"
      ],
      "metadata": {
        "colab": {
          "base_uri": "https://localhost:8080/"
        },
        "id": "onsZF-piUWR4",
        "outputId": "cc50b030-d427-4f32-a5dd-cf643066598d"
      },
      "id": "onsZF-piUWR4",
      "execution_count": null,
      "outputs": [
        {
          "output_type": "execute_result",
          "data": {
            "text/plain": [
              "coding_sequence    GTAGTAGGTCTTTGGCATTAGGAGCTTGAGCCCAGACGGCCCTAGC...\n",
              "mutation_kind                                                      2\n",
              "Name: 651, dtype: object"
            ]
          },
          "metadata": {},
          "execution_count": 59
        }
      ]
    },
    {
      "cell_type": "markdown",
      "metadata": {
        "id": "9fdb5ba5"
      },
      "source": [
        "## Plot MSE Transition matrix and t_mat of ds_sick"
      ],
      "id": "9fdb5ba5"
    },
    {
      "cell_type": "code",
      "metadata": {
        "id": "5aaac270"
      },
      "source": [
        "mse_all = []\n",
        "for gene in df_sick['coding_sequence']:\n",
        "    \n",
        "    gene_split = gene_index(gene)\n",
        "    t_mat = compute_transition_matrix(gene_split, ['T', 'A', 'C', 'G'])\n",
        "    \n",
        "    \n",
        "    t_mat /= np.sum(t_mat, axis=1, keepdims=True)\n",
        "    \n",
        "    mse = np.sum((transition_matrix - t_mat) ** 2)\n",
        "    mse_all.append(mse)"
      ],
      "id": "5aaac270",
      "execution_count": null,
      "outputs": []
    },
    {
      "cell_type": "code",
      "metadata": {
        "id": "4db23d5c",
        "colab": {
          "base_uri": "https://localhost:8080/"
        },
        "outputId": "1fa4f898-db2f-4b66-82f2-e06bf6dc8cc2"
      },
      "source": [
        "print(len(mse_all))"
      ],
      "id": "4db23d5c",
      "execution_count": null,
      "outputs": [
        {
          "output_type": "stream",
          "name": "stdout",
          "text": [
            "1018\n"
          ]
        }
      ]
    },
    {
      "cell_type": "code",
      "metadata": {
        "scrolled": false,
        "id": "0c6636d6",
        "colab": {
          "base_uri": "https://localhost:8080/",
          "height": 408
        },
        "outputId": "94288243-f083-4b99-d0fe-c7f717a7a8d8"
      },
      "source": [
        "plt.figure(figsize=(12, 6))\n",
        "plt.title(\"Mean Square Error (MSE) per sample of patients with known mutations\")\n",
        "plt.xlabel(\"Patient index in dataset\", size=14)\n",
        "plt.ylabel(\"MSE (log scale)\", size=14)\n",
        "plt.plot(list(range(len(mse_all))), np.log(mse_all))\n",
        "plt.plot(list(range(len(mse_all))), [np.log(threshold) for _ in list(range(len(mse_all)))])\n",
        "plt.show()"
      ],
      "id": "0c6636d6",
      "execution_count": null,
      "outputs": [
        {
          "output_type": "display_data",
          "data": {
            "image/png": "[encoded data removed]",
            "text/plain": [
              "<Figure size 864x432 with 1 Axes>"
            ]
          },
          "metadata": {
            "needs_background": "light"
          }
        }
      ]
    },
    {
      "cell_type": "code",
      "source": [
        "## save MSE results\n",
        "mse_all_tosave = np.array(mse_all)\n",
        "np.save(os.path.join(config[\"train_dir\"], \"mse_all_1000_samples.npy\"), mse_all_tosave)"
      ],
      "metadata": {
        "id": "Y6B5Y2Tsa2fq"
      },
      "id": "Y6B5Y2Tsa2fq",
      "execution_count": null,
      "outputs": []
    },
    {
      "cell_type": "code",
      "metadata": {
        "id": "5065f9c0",
        "colab": {
          "base_uri": "https://localhost:8080/"
        },
        "outputId": "5fc31996-a8db-4569-c764-14299a62c316"
      },
      "source": [
        "min(mse_all), max(mse_all), threshold"
      ],
      "id": "5065f9c0",
      "execution_count": null,
      "outputs": [
        {
          "output_type": "execute_result",
          "data": {
            "text/plain": [
              "(1.045346412143244e-06, 0.07966629029566005, 8.234402473534644e-06)"
            ]
          },
          "metadata": {},
          "execution_count": 68
        }
      ]
    },
    {
      "cell_type": "markdown",
      "source": [
        "## Results and models comparison"
      ],
      "metadata": {
        "id": "qTNOS9pAxWly"
      },
      "id": "qTNOS9pAxWly"
    },
    {
      "cell_type": "code",
      "source": [
        "df_sick[\"anomaly_detected\"] = mse_all > threshold"
      ],
      "metadata": {
        "id": "xgteTFD5Sh4t"
      },
      "id": "xgteTFD5Sh4t",
      "execution_count": null,
      "outputs": []
    },
    {
      "cell_type": "code",
      "source": [
        "df_sick.head()"
      ],
      "metadata": {
        "colab": {
          "base_uri": "https://localhost:8080/",
          "height": 206
        },
        "id": "NFy6WgLiUAsG",
        "outputId": "93b78900-ca4e-40d4-d774-c07127872515"
      },
      "id": "NFy6WgLiUAsG",
      "execution_count": null,
      "outputs": [
        {
          "output_type": "execute_result",
          "data": {
            "text/html": [
              "<div>\n",
              "<style scoped>\n",
              "    .dataframe tbody tr th:only-of-type {\n",
              "        vertical-align: middle;\n",
              "    }\n",
              "\n",
              "    .dataframe tbody tr th {\n",
              "        vertical-align: top;\n",
              "    }\n",
              "\n",
              "    .dataframe thead th {\n",
              "        text-align: right;\n",
              "    }\n",
              "</style>\n",
              "<table border=\"1\" class=\"dataframe\">\n",
              "  <thead>\n",
              "    <tr style=\"text-align: right;\">\n",
              "      <th></th>\n",
              "      <th>coding_sequence</th>\n",
              "      <th>mutation_kind</th>\n",
              "      <th>anomaly_detected</th>\n",
              "    </tr>\n",
              "  </thead>\n",
              "  <tbody>\n",
              "    <tr>\n",
              "      <th>0</th>\n",
              "      <td>ATGCAGAGAAGTCCGTTAGAAAAGGCTAGCGTGGTCAGCAAGTTAT...</td>\n",
              "      <td>7</td>\n",
              "      <td>True</td>\n",
              "    </tr>\n",
              "    <tr>\n",
              "      <th>1</th>\n",
              "      <td>GTAGTAGGTCTTTGGCATTAGGAGCTTGAGCCCAGACGGCCCTAGC...</td>\n",
              "      <td>6</td>\n",
              "      <td>False</td>\n",
              "    </tr>\n",
              "    <tr>\n",
              "      <th>2</th>\n",
              "      <td>GTAGTAGGTCTTTGGCATTAGGAGCTTGAGCCCAGACGGCCCTAGC...</td>\n",
              "      <td>1</td>\n",
              "      <td>False</td>\n",
              "    </tr>\n",
              "    <tr>\n",
              "      <th>3</th>\n",
              "      <td>GTAGTAGGTCTTTGGCATTAGGAGCTTGAGCCCAGACGGCCCTAGC...</td>\n",
              "      <td>2</td>\n",
              "      <td>False</td>\n",
              "    </tr>\n",
              "    <tr>\n",
              "      <th>4</th>\n",
              "      <td>GTAGTAGGTCTTTGGCATTAGGAGCTTGAGCCCAGACGGCCCTAGC...</td>\n",
              "      <td>1</td>\n",
              "      <td>False</td>\n",
              "    </tr>\n",
              "  </tbody>\n",
              "</table>\n",
              "</div>"
            ],
            "text/plain": [
              "                                     coding_sequence  ...  anomaly_detected\n",
              "0  ATGCAGAGAAGTCCGTTAGAAAAGGCTAGCGTGGTCAGCAAGTTAT...  ...              True\n",
              "1  GTAGTAGGTCTTTGGCATTAGGAGCTTGAGCCCAGACGGCCCTAGC...  ...             False\n",
              "2  GTAGTAGGTCTTTGGCATTAGGAGCTTGAGCCCAGACGGCCCTAGC...  ...             False\n",
              "3  GTAGTAGGTCTTTGGCATTAGGAGCTTGAGCCCAGACGGCCCTAGC...  ...             False\n",
              "4  GTAGTAGGTCTTTGGCATTAGGAGCTTGAGCCCAGACGGCCCTAGC...  ...             False\n",
              "\n",
              "[5 rows x 3 columns]"
            ]
          },
          "metadata": {},
          "execution_count": 70
        }
      ]
    },
    {
      "cell_type": "code",
      "source": [
        "plt.figure(figsize=(12, 6))\n",
        "sbn.countplot(data=df_sick, x=\"anomaly_detected\", hue=\"mutation_kind\")\n",
        "plt.title(\"Counts of detected mutations classified by mutation kind\")\n",
        "plt.show()"
      ],
      "metadata": {
        "colab": {
          "base_uri": "https://localhost:8080/",
          "height": 405
        },
        "id": "QSMfbOl-Wicx",
        "outputId": "d632d48d-e075-498a-8997-748b40e63cf1"
      },
      "id": "QSMfbOl-Wicx",
      "execution_count": null,
      "outputs": [
        {
          "output_type": "display_data",
          "data": {
            "image/png": "[encoded data removed]",
            "text/plain": [
              "<Figure size 864x432 with 1 Axes>"
            ]
          },
          "metadata": {
            "needs_background": "light"
          }
        }
      ]
    },
    {
      "cell_type": "markdown",
      "source": [
        "## Split dataset"
      ],
      "metadata": {
        "id": "A5OWIM7PhDYR"
      },
      "id": "A5OWIM7PhDYR"
    },
    {
      "cell_type": "code",
      "source": [
        "train_df, test_df = train_test_split(dataset_cp, test_size=.2, random_state=1999)\n",
        "\n",
        "train_df.shape, test_df.shape"
      ],
      "metadata": {
        "colab": {
          "base_uri": "https://localhost:8080/"
        },
        "id": "BLfGbzpPzg28",
        "outputId": "034e7705-40d8-4c7b-8351-d75b46307c8e"
      },
      "id": "BLfGbzpPzg28",
      "execution_count": null,
      "outputs": [
        {
          "output_type": "execute_result",
          "data": {
            "text/plain": [
              "((1614, 4), (404, 4))"
            ]
          },
          "metadata": {},
          "execution_count": 172
        }
      ]
    },
    {
      "cell_type": "code",
      "source": [
        "mse_all = []\n",
        "for gene in test_df['coding_sequence']:\n",
        "    \n",
        "    gene_split = gene_index(gene)\n",
        "    t_mat = compute_transition_matrix(gene_split, ['T', 'A', 'C', 'G'])\n",
        "    \n",
        "    \n",
        "    t_mat /= np.sum(t_mat, axis=1, keepdims=True)\n",
        "    \n",
        "    mse = np.sum((transition_matrix - t_mat) ** 2)\n",
        "    mse_all.append(mse)\n",
        "\n",
        "test_df[\"anomaly_detected\"] = mse_all > threshold"
      ],
      "metadata": {
        "id": "wQD3_nE3qaa3"
      },
      "id": "wQD3_nE3qaa3",
      "execution_count": null,
      "outputs": []
    },
    {
      "cell_type": "markdown",
      "source": [
        "## Discrete-Time discrete value Markov chain"
      ],
      "metadata": {
        "id": "zCFOEuteqOKJ"
      },
      "id": "zCFOEuteqOKJ"
    },
    {
      "cell_type": "code",
      "source": [
        "print(\"Markov chain acc = \", accuracy_score(test_df.is_normal, test_df.anomaly_detected))\n",
        "cmat_markov = confusion_matrix(test_df.is_normal, test_df.anomaly_detected)\n",
        "sbn.heatmap(cmat_markov.T, annot=True)\n",
        "plt.title(\"Discrete-time discrete value Markov chain\")\n",
        "plt.ylabel(\"predicted class\")\n",
        "plt.xlabel(\"True class\")\n",
        "plt.show()"
      ],
      "metadata": {
        "colab": {
          "base_uri": "https://localhost:8080/",
          "height": 312
        },
        "id": "F5EdUeKrqNBw",
        "outputId": "411b4c04-ad01-4438-88b9-053fd01e5627"
      },
      "id": "F5EdUeKrqNBw",
      "execution_count": null,
      "outputs": [
        {
          "output_type": "stream",
          "name": "stdout",
          "text": [
            "Markov chain acc =  0.5420792079207921\n"
          ]
        },
        {
          "output_type": "display_data",
          "data": {
            "image/png": "[encoded data removed]",
            "text/plain": [
              "<Figure size 432x288 with 2 Axes>"
            ]
          },
          "metadata": {
            "needs_background": "light"
          }
        }
      ]
    },
    {
      "cell_type": "markdown",
      "source": [
        "# Models comparison with ML techniques"
      ],
      "metadata": {
        "id": "PZxODIEsZ6Vb"
      },
      "id": "PZxODIEsZ6Vb"
    },
    {
      "cell_type": "code",
      "source": [
        "X_train = train_df.coding_sequence.tolist()\n",
        "y_train = train_df.is_normal.values\n",
        "\n",
        "X_test = test_df.coding_sequence.tolist()\n",
        "y_test = test_df.is_normal.values"
      ],
      "metadata": {
        "id": "UwAUNAAtdx62"
      },
      "id": "UwAUNAAtdx62",
      "execution_count": null,
      "outputs": []
    },
    {
      "cell_type": "code",
      "source": [
        "\n",
        "# vectorization\n",
        "vect = CountVectorizer()\n",
        "vect = vect.fit(X_train)\n",
        "X_train = vect.transform(X_train).toarray()\n",
        "X_test = vect.transform(X_test).toarray()"
      ],
      "metadata": {
        "id": "zYczCjPK0zFf"
      },
      "id": "zYczCjPK0zFf",
      "execution_count": null,
      "outputs": []
    },
    {
      "cell_type": "code",
      "source": [
        "X_train.shape, y_train.shape, X_test.shape, y_test.shape"
      ],
      "metadata": {
        "colab": {
          "base_uri": "https://localhost:8080/"
        },
        "id": "9zMyS_yZftk0",
        "outputId": "fe2cd996-a614-4ff3-fb82-b71370c5b107"
      },
      "id": "9zMyS_yZftk0",
      "execution_count": null,
      "outputs": [
        {
          "output_type": "execute_result",
          "data": {
            "text/plain": [
              "((1614, 1466), (1614,), (404, 1466), (404,))"
            ]
          },
          "metadata": {},
          "execution_count": 185
        }
      ]
    },
    {
      "cell_type": "markdown",
      "source": [
        "## Gaussian Naive bayes"
      ],
      "metadata": {
        "id": "QCLFk1l9Z-ci"
      },
      "id": "QCLFk1l9Z-ci"
    },
    {
      "cell_type": "code",
      "source": [
        "### train\n",
        "NB_model = GaussianNB()\n",
        "\n",
        "NB_model.fit(X_train, y_train)\n",
        "\n",
        "GNB_preds = NB_model.predict(X_test)\n",
        "\n",
        "print(\"Gaussian NB acc = \", NB_model.score(X_test, y_test))\n",
        "\n",
        "# confusion matrix\n",
        "cmat_GNB = confusion_matrix(y_test, GNB_preds)\n",
        "sbn.heatmap(cmat_GNB.T, annot=True)\n",
        "plt.title(\"Gaussian Nave Bayes\")\n",
        "plt.ylabel(\"predicted class\")\n",
        "plt.xlabel(\"True class\")\n",
        "plt.show()"
      ],
      "metadata": {
        "colab": {
          "base_uri": "https://localhost:8080/",
          "height": 312
        },
        "id": "qleH6Y8SftoD",
        "outputId": "cdedaf28-7b36-43c1-dabf-40e701f60df1"
      },
      "id": "qleH6Y8SftoD",
      "execution_count": null,
      "outputs": [
        {
          "output_type": "stream",
          "name": "stdout",
          "text": [
            "Gaussian NB acc =  0.5222772277227723\n"
          ]
        },
        {
          "output_type": "display_data",
          "data": {
            "image/png": "[encoded data removed]",
            "text/plain": [
              "<Figure size 432x288 with 2 Axes>"
            ]
          },
          "metadata": {
            "needs_background": "light"
          }
        }
      ]
    },
    {
      "cell_type": "markdown",
      "source": [
        "## Multinomial Naive bayes"
      ],
      "metadata": {
        "id": "ZuEGhkifi192"
      },
      "id": "ZuEGhkifi192"
    },
    {
      "cell_type": "code",
      "source": [
        "m_NB = MultinomialNB()\n",
        "\n",
        "m_NB.fit(X_train, y_train)\n",
        "\n",
        "MNB_preds = m_NB.predict(X_test)\n",
        "\n",
        "print(\"Multinomial NB acc = \", m_NB.score(X_test, y_test))\n",
        "\n",
        "# confusion matrix\n",
        "cmat_MNB = confusion_matrix(y_test, MNB_preds)\n",
        "sbn.heatmap(cmat_MNB.T, annot=True)\n",
        "plt.title(\"Multinomial Nave Bayes\")\n",
        "plt.ylabel(\"predicted class\")\n",
        "plt.xlabel(\"True class\")\n",
        "plt.show()"
      ],
      "metadata": {
        "colab": {
          "base_uri": "https://localhost:8080/",
          "height": 312
        },
        "id": "-wuA-AbVi79M",
        "outputId": "bff243e8-ca7b-4cc5-9e53-0b010565a4f7"
      },
      "id": "-wuA-AbVi79M",
      "execution_count": null,
      "outputs": [
        {
          "output_type": "stream",
          "name": "stdout",
          "text": [
            "Multinomial NB acc =  0.6361386138613861\n"
          ]
        },
        {
          "output_type": "display_data",
          "data": {
            "image/png": "[encoded data removed]",
            "text/plain": [
              "<Figure size 432x288 with 2 Axes>"
            ]
          },
          "metadata": {
            "needs_background": "light"
          }
        }
      ]
    },
    {
      "cell_type": "markdown",
      "source": [
        "## RandomForest classifier"
      ],
      "metadata": {
        "id": "e62BeieRaEun"
      },
      "id": "e62BeieRaEun"
    },
    {
      "cell_type": "code",
      "source": [
        "rf_model = RandomForestClassifier()\n",
        "rf_model.fit(X_train, y_train)\n",
        "\n",
        "rf_preds = rf_model.predict(X_test)\n",
        "\n",
        "print(\"RF classifier acc = \", rf_model.score(X_test, y_test))\n",
        "\n",
        "# confusion matrix\n",
        "cmat_RF = confusion_matrix(y_test, rf_preds)\n",
        "sbn.heatmap(cmat_RF.T, annot=True)\n",
        "plt.title(\"Random forest classifier\")\n",
        "plt.ylabel(\"predicted class\")\n",
        "plt.xlabel(\"True class\")\n",
        "plt.show()"
      ],
      "metadata": {
        "colab": {
          "base_uri": "https://localhost:8080/",
          "height": 312
        },
        "id": "NaXLZvXSaGtm",
        "outputId": "a2ac0cd1-7a29-464b-b247-ec8d906d04f8"
      },
      "id": "NaXLZvXSaGtm",
      "execution_count": null,
      "outputs": [
        {
          "output_type": "stream",
          "name": "stdout",
          "text": [
            "RF classifier acc =  0.6361386138613861\n"
          ]
        },
        {
          "output_type": "display_data",
          "data": {
            "image/png": "[encoded data removed]",
            "text/plain": [
              "<Figure size 432x288 with 2 Axes>"
            ]
          },
          "metadata": {
            "needs_background": "light"
          }
        }
      ]
    },
    {
      "cell_type": "code",
      "source": [
        ""
      ],
      "metadata": {
        "id": "cHJv9AJEpY3x"
      },
      "id": "cHJv9AJEpY3x",
      "execution_count": null,
      "outputs": []
    }
  ]
}